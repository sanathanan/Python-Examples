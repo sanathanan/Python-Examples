{
 "cells": [
  {
   "cell_type": "code",
   "execution_count": 13,
   "metadata": {},
   "outputs": [],
   "source": [
    "import numpy as np\n",
    "from numpy import random as rd"
   ]
  },
  {
   "cell_type": "code",
   "execution_count": 14,
   "metadata": {},
   "outputs": [],
   "source": [
    "# Sorting"
   ]
  },
  {
   "cell_type": "code",
   "execution_count": 15,
   "metadata": {},
   "outputs": [
    {
     "name": "stdout",
     "output_type": "stream",
     "text": [
      "[ 2  4  8 11 20 20 25 26 30 31 34 35 37 45 48 48 52 53 55 56 63 63 64 67\n",
      " 72 85 88 90 94 97]\n"
     ]
    }
   ],
   "source": [
    "# Sorting the numbers\n",
    "a= rd.randint(1,100,30) # Creating a 30 elements between the numbers 1 to 100\n",
    "b=np.sort(a) # Sorting the element of a using sort()\n",
    "print(b)"
   ]
  },
  {
   "cell_type": "code",
   "execution_count": 16,
   "metadata": {},
   "outputs": [
    {
     "name": "stdout",
     "output_type": "stream",
     "text": [
      "[[ 2  4  8 11 20]\n",
      " [20 25 26 30 31]\n",
      " [34 35 37 45 48]\n",
      " [48 52 53 55 56]\n",
      " [63 63 64 67 72]\n",
      " [85 88 90 94 97]]\n"
     ]
    }
   ],
   "source": [
    "# Creating a matrix from the sorted numbers\n",
    "c=b.reshape(6,5) #  creating a 6X5 matrix from 30 elements\n",
    "print(c)"
   ]
  },
  {
   "cell_type": "code",
   "execution_count": 17,
   "metadata": {},
   "outputs": [
    {
     "name": "stdout",
     "output_type": "stream",
     "text": [
      "[4 4 4 4 4 4]\n"
     ]
    }
   ],
   "source": [
    "print(c.argmax(axis=1)) # Index of the maximum element in a column"
   ]
  },
  {
   "cell_type": "code",
   "execution_count": 18,
   "metadata": {},
   "outputs": [
    {
     "name": "stdout",
     "output_type": "stream",
     "text": [
      "[5 5 5 5 5]\n"
     ]
    }
   ],
   "source": [
    "print(c.argmax(axis=0)) # Index of the maximum element in a row"
   ]
  },
  {
   "cell_type": "code",
   "execution_count": 19,
   "metadata": {},
   "outputs": [
    {
     "name": "stdout",
     "output_type": "stream",
     "text": [
      "97\n",
      "2\n"
     ]
    }
   ],
   "source": [
    "print(c.max()) # Maximum element in a matrix\n",
    "print(c.min()) # Minimum element in a matrix"
   ]
  },
  {
   "cell_type": "code",
   "execution_count": 23,
   "metadata": {},
   "outputs": [
    {
     "name": "stdout",
     "output_type": "stream",
     "text": [
      "[[40 15 28  2 15]\n",
      " [19 41 30 46 31]\n",
      " [30  9  4 30 36]\n",
      " [13 40 19 29 38]\n",
      " [ 9 42 16 20 37]\n",
      " [40 12 12 43 33]]\n"
     ]
    }
   ],
   "source": [
    "# Subsetting\n",
    "a=rd.randint(1,50,30).reshape(6,5)\n",
    "print(a)"
   ]
  },
  {
   "cell_type": "code",
   "execution_count": 22,
   "metadata": {},
   "outputs": [
    {
     "name": "stdout",
     "output_type": "stream",
     "text": [
      "[[ True  True False False False]\n",
      " [ True  True False False  True]\n",
      " [ True  True  True  True  True]\n",
      " [False  True False False False]\n",
      " [False False  True False False]\n",
      " [False False  True False  True]]\n",
      "[35 33 45 40 45 38 29 41 32 33 31 27 43 33]\n"
     ]
    }
   ],
   "source": [
    "print(a>25) # Print True or False for the numbers present in the matrix greater than 25"
   ]
  },
  {
   "cell_type": "code",
   "execution_count": 24,
   "metadata": {},
   "outputs": [
    {
     "name": "stdout",
     "output_type": "stream",
     "text": [
      "[40 28 41 30 46 31 30 30 36 40 29 38 42 37 40 43 33]\n"
     ]
    }
   ],
   "source": [
    "print(a[a>25]) # Print the numbers present in the matrix greater than 25.\n",
    "               # This is called Subsetting"
   ]
  }
 ],
 "metadata": {
  "kernelspec": {
   "display_name": "Python 3",
   "language": "python",
   "name": "python3"
  },
  "language_info": {
   "codemirror_mode": {
    "name": "ipython",
    "version": 3
   },
   "file_extension": ".py",
   "mimetype": "text/x-python",
   "name": "python",
   "nbconvert_exporter": "python",
   "pygments_lexer": "ipython3",
   "version": "3.8.3"
  }
 },
 "nbformat": 4,
 "nbformat_minor": 4
}
