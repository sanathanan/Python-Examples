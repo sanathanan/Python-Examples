{
 "cells": [
  {
   "cell_type": "code",
   "execution_count": 9,
   "metadata": {},
   "outputs": [],
   "source": [
    "# Slicing\n",
    "import numpy as np"
   ]
  },
  {
   "cell_type": "code",
   "execution_count": 10,
   "metadata": {},
   "outputs": [
    {
     "name": "stdout",
     "output_type": "stream",
     "text": [
      "[[1 2 3]\n",
      " [4 5 6]\n",
      " [7 8 9]]\n",
      "[[4 6]\n",
      " [7 9]]\n"
     ]
    }
   ],
   "source": [
    "#Printing 4,7,6,9 from the 3X3 Matrix\n",
    "lst=[[1,2,3],[4,5,6],[7,8,9]]\n",
    "a=np.array(lst)\n",
    "print(a)\n",
    "slicing=a[1:3,0:3:2]  # 1:3 is row and 0:3:2 is column with step 2\n",
    "print(slicing)"
   ]
  },
  {
   "cell_type": "code",
   "execution_count": 11,
   "metadata": {},
   "outputs": [
    {
     "name": "stdout",
     "output_type": "stream",
     "text": [
      "[[ 1  2  3  4]\n",
      " [ 5  6  7  8]\n",
      " [ 9 10 11 12]\n",
      " [13 14 15 16]]\n",
      "[[ 5  8]\n",
      " [ 9 12]]\n"
     ]
    }
   ],
   "source": [
    "#Printing 5,8,9,12 from the 4X4 Matrix\n",
    "lst=[[1,2,3,4],[5,6,7,8],[9,10,11,12],[13,14,15,16]]\n",
    "a=np.array(lst)\n",
    "print(a)\n",
    "slicing=a[1:3,0:4:3]  # 1:3 is row and 0:4:3 is column with step 3\n",
    "print(slicing)"
   ]
  },
  {
   "cell_type": "code",
   "execution_count": 12,
   "metadata": {},
   "outputs": [
    {
     "name": "stdout",
     "output_type": "stream",
     "text": [
      "[[ 1  2  3  4]\n",
      " [ 5  6  7  8]\n",
      " [ 9 10 11 12]\n",
      " [13 14 15 16]]\n",
      "[[ 1  4]\n",
      " [13 16]]\n"
     ]
    }
   ],
   "source": [
    "#Printing 1,4,13,16 from the 4X4 Matrix\n",
    "lst=[[1,2,3,4],[5,6,7,8],[9,10,11,12],[13,14,15,16]]\n",
    "a=np.array(lst)\n",
    "print(a)\n",
    "slicing=a[0:4:3,0:4:3]  # 0:4:3 is row with step 3 and 0:4:3 is column with step 3\n",
    "print(slicing)"
   ]
  }
 ],
 "metadata": {
  "kernelspec": {
   "display_name": "Python 3",
   "language": "python",
   "name": "python3"
  },
  "language_info": {
   "codemirror_mode": {
    "name": "ipython",
    "version": 3
   },
   "file_extension": ".py",
   "mimetype": "text/x-python",
   "name": "python",
   "nbconvert_exporter": "python",
   "pygments_lexer": "ipython3",
   "version": "3.8.3"
  }
 },
 "nbformat": 4,
 "nbformat_minor": 4
}
