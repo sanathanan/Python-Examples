{
 "cells": [
  {
   "cell_type": "code",
   "execution_count": 13,
   "metadata": {},
   "outputs": [],
   "source": [
    "# Shallow Copying  and Deep Copying\n",
    "\n",
    "import numpy as np"
   ]
  },
  {
   "cell_type": "code",
   "execution_count": 14,
   "metadata": {},
   "outputs": [
    {
     "name": "stdout",
     "output_type": "stream",
     "text": [
      "Printing the value of a:  [1 2 3 4 5 6]\n",
      "Copying the data from a to b:  [1 2 3 4 5 6]\n",
      "The value of b[0] changes from 1 to 0:  [0 2 3 4 5 6]\n",
      "The value of a[0] also changes to the value of b[0]:  [0 2 3 4 5 6]\n",
      "Memory location of a:  1392065401360\n",
      "Memory location of b:  1392065401360\n"
     ]
    }
   ],
   "source": [
    "# Shallow Copying  - Refering to the same memory location\n",
    "lst=[1,2,3,4,5,6]\n",
    "a=np.array(lst) # Creating an array from lst\n",
    "print(\"Printing the value of a: \",a)\n",
    "b=a # Copying the data from a to b\n",
    "print(\"Copying the data from a to b: \",b)\n",
    "b[0]=0 # Changing the value of b[0]\n",
    "print(\"The value of b[0] changes from 1 to 0: \",b)\n",
    "print(\"The value of a[0] also changes to the value of b[0]: \",a) # The value of a[0] also changes to the value of b[0]\n",
    "print(\"Memory location of a: \",id(a))\n",
    "print(\"Memory location of b: \",id(b))"
   ]
  },
  {
   "cell_type": "code",
   "execution_count": 15,
   "metadata": {},
   "outputs": [
    {
     "name": "stdout",
     "output_type": "stream",
     "text": [
      "Printing the value of a:  [1 2 3 4 5 6]\n",
      "Reference Copy of the data from a to b:  [1 2 3 4 5 6]\n",
      "The value of b[0] changes from 1 to 0:  [0 2 3 4 5 6]\n",
      "The value of a[0] will not change from 1 to 0 [1 2 3 4 5 6]\n",
      "Memory location of a:  1392065463440\n",
      "Memory location of b:  1392065464480\n"
     ]
    }
   ],
   "source": [
    "# Deep Copying  - Refering to the different memory location\n",
    "lst=[1,2,3,4,5,6]\n",
    "a=np.array(lst) # Creating an array from lst\n",
    "print(\"Printing the value of a: \",a)\n",
    "b=a.copy() #Reference copying the value of a to b.\n",
    "print(\"Reference Copy of the data from a to b: \",b) \n",
    "b[0]=0 # Changing the value of b[0]\n",
    "print(\"The value of b[0] changes from 1 to 0: \",b)\n",
    "print(\"The value of a[0] will not change from 1 to 0\",a)\n",
    "print(\"Memory location of a: \",id(a))\n",
    "print(\"Memory location of b: \",id(b))"
   ]
  }
 ],
 "metadata": {
  "kernelspec": {
   "display_name": "Python 3",
   "language": "python",
   "name": "python3"
  },
  "language_info": {
   "codemirror_mode": {
    "name": "ipython",
    "version": 3
   },
   "file_extension": ".py",
   "mimetype": "text/x-python",
   "name": "python",
   "nbconvert_exporter": "python",
   "pygments_lexer": "ipython3",
   "version": "3.8.3"
  }
 },
 "nbformat": 4,
 "nbformat_minor": 4
}
