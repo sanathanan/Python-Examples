{
 "cells": [
  {
   "cell_type": "code",
   "execution_count": 16,
   "metadata": {},
   "outputs": [],
   "source": [
    "#isarray() and isanyarray()\n",
    "\n",
    "import numpy as np"
   ]
  },
  {
   "cell_type": "code",
   "execution_count": 17,
   "metadata": {},
   "outputs": [
    {
     "name": "stdout",
     "output_type": "stream",
     "text": [
      "Printing the value of a:  [1 2 3 4 5 6]\n",
      "Copying the data from a to b:  [1 2 3 4 5 6]\n",
      "The value of b[0] changes from 1 to 0:  [0 2 3 4 5 6]\n",
      "The value of a[0] also changes to the value of b[0]:  [0 2 3 4 5 6]\n",
      "1392065450352\n",
      "1392065450352\n"
     ]
    }
   ],
   "source": [
    "# \"np.asarray()\" # They have same memory location but the index of that value shares diffferent memory location\n",
    "lst=[1,2,3,4,5,6]\n",
    "a=np.array(lst) # Creating an array from lst\n",
    "print(\"Printing the value of a: \",a)\n",
    "b=np.asarray(a) # Copying the data from a to b\n",
    "print(\"Copying the data from a to b: \",b)\n",
    "b[0]=0 # Changing the value of b[0]\n",
    "print(\"The value of b[0] changes from 1 to 0: \",b)\n",
    "print(\"The value of a[0] also changes to the value of b[0]: \",a) # The value of a[0] also changes to the value of b[0]\n",
    "print(id(a))\n",
    "print(id(b))"
   ]
  },
  {
   "cell_type": "code",
   "execution_count": 18,
   "metadata": {},
   "outputs": [
    {
     "name": "stdout",
     "output_type": "stream",
     "text": [
      "Printing the value of a:  [1 2 3 4 5 6]\n",
      "Reference Copy of the data from a to b:  [1 2 3 4 5 6]\n",
      "The value of b[0] changes from 1 to 0:  [0 2 3 4 5 6]\n",
      "The value of a[0] will not change from 1 to 0 [0 2 3 4 5 6]\n",
      "1392065466160\n",
      "1392065466160\n",
      "1392065195024\n",
      "1392065194960\n"
     ]
    }
   ],
   "source": [
    "# \"np.asanyarray()\" # They have same memory location but the index of that value shares diffferent memory location\n",
    "lst=[1,2,3,4,5,6]\n",
    "a=np.array(lst) # Creating an array from lst\n",
    "print(\"Printing the value of a: \",a)\n",
    "b=np.asanyarray(a) \n",
    "print(\"Reference Copy of the data from a to b: \",b) \n",
    "b[0]=0 # Changing the value of b[0]\n",
    "print(\"The value of b[0] changes from 1 to 0: \",b)\n",
    "print(\"The value of a[0] will not change from 1 to 0\",a)\n",
    "print(id(a))\n",
    "print(id(b))\n",
    "print(id(a[0]))\n",
    "print(id(b[0]))"
   ]
  }
 ],
 "metadata": {
  "kernelspec": {
   "display_name": "Python 3",
   "language": "python",
   "name": "python3"
  },
  "language_info": {
   "codemirror_mode": {
    "name": "ipython",
    "version": 3
   },
   "file_extension": ".py",
   "mimetype": "text/x-python",
   "name": "python",
   "nbconvert_exporter": "python",
   "pygments_lexer": "ipython3",
   "version": "3.8.3"
  }
 },
 "nbformat": 4,
 "nbformat_minor": 4
}
