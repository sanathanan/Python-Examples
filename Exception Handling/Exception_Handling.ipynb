{
 "cells": [
  {
   "cell_type": "code",
   "execution_count": null,
   "metadata": {},
   "outputs": [],
   "source": [
    "# Exception Handling - It will handle only Run time error.\n",
    "# There are two types to error:\n",
    "    # a. Syntax / compile time error  - Handled by developer during coding\n",
    "    # b. Run time error. - handled by Exception Handling"
   ]
  },
  {
   "cell_type": "code",
   "execution_count": null,
   "metadata": {},
   "outputs": [],
   "source": [
    "# try Block - to handle the error (If there is any error occured in try block, the next line of the try block wont run,\n",
    "    # it will directly go to the except block). If there is no error in the try block, then it wont go to the except \n",
    "    # block and it will directly go to the finally block, if we had this block.\n",
    "\n",
    "# except Block - Handle the exception (error thrown in try block). The except block will run only when there is any\n",
    "    # error thrown by try block\n",
    "    # We can define any number of except block.\n",
    "    # except block should be before else/finally block and after try block.\n",
    "\n",
    "# else block - we can have else block inside excpet block. ( Check example 10a and 10b)\n",
    "        # If try block execute completely, then else block will execute.\n",
    "        # If try block through an error, then except block will execute and else block wont execute.\n",
    "        # Its not compulsory to use else block\n",
    "        # The else block should be after except block.\n",
    "        \n",
    "# finally Block - will execute if we get error as well as if we don't get error and helps to close any opened connection\n",
    "    # The finally block will excute even try block, except block and else block run completely or not.\n",
    "    # generally we can close the database connection that is opened in try block. \n",
    "    # finally block should be the last block in the exception handling"
   ]
  },
  {
   "cell_type": "code",
   "execution_count": null,
   "metadata": {},
   "outputs": [],
   "source": [
    "# Notes:\n",
    "# Combinations:\n",
    "    # 1. try block followed by except block\n",
    "    # 2. try block followed by except block and finally\n",
    "    # 3. we can have single try block and we can have multiple except block\n",
    "    # 4. If try block is executing then else block will execute\n",
    "    # 5. If try block is executing then else block will execute and finally block will execute\n",
    "    # 6. If try block is not executing then except block will execute and else block will not excute.\n",
    "    # 7. If try block is not executing then except block will execute and else block will not excute and finally \n",
    "         # block will excute\n",
    "    "
   ]
  },
  {
   "cell_type": "code",
   "execution_count": 1,
   "metadata": {},
   "outputs": [
    {
     "name": "stdout",
     "output_type": "stream",
     "text": [
      "------------------------------Example 1-----------------------------------\n",
      "Hello, You cannot divide the number by Zero:\n",
      "Bye\n"
     ]
    }
   ],
   "source": [
    "#Example 1:\n",
    "a = 5\n",
    "b = 0\n",
    "print(\"------------------------------Example 1-----------------------------------\")\n",
    "# Avoiding the error in line no 9 and printing the exception message and running the line no 12\n",
    "try:\n",
    "    print(a/b)\n",
    "except Exception:\n",
    "    print(\"Hello, You cannot divide the number by Zero:\")\n",
    "print(\"Bye\")"
   ]
  },
  {
   "cell_type": "code",
   "execution_count": 2,
   "metadata": {},
   "outputs": [
    {
     "name": "stdout",
     "output_type": "stream",
     "text": [
      "------------------------------Example 2-----------------------------------\n",
      "Hello, You cannot divide the number by Zero: division by zero\n",
      "Bye\n"
     ]
    }
   ],
   "source": [
    "#Example 2: (Printing the error message along with the exception message)\n",
    "a = 5\n",
    "b = 0\n",
    "print(\"------------------------------Example 2-----------------------------------\")\n",
    "try:\n",
    "    print(a/b)\n",
    "except Exception as e: # printing the error message in the below statement\n",
    "    print(\"Hello, You cannot divide the number by Zero:\", e)\n",
    "print(\"Bye\")"
   ]
  },
  {
   "cell_type": "code",
   "execution_count": 3,
   "metadata": {},
   "outputs": [
    {
     "name": "stdout",
     "output_type": "stream",
     "text": [
      "------------------------------Example 3-----------------------------------\n",
      "2.5\n",
      "Bye\n"
     ]
    }
   ],
   "source": [
    "#Example 3: (There is no error in the code, then the execution will come out of try block and\n",
    "# will go to the line no 10. (The program will not execute Exception block)\n",
    "a = 5\n",
    "b = 2\n",
    "print(\"------------------------------Example 3-----------------------------------\")\n",
    "try:\n",
    "    print(a/b)\n",
    "except Exception as e: # printing the error message in the below statement\n",
    "    print(\"Hello, You cannot divide the number by Zero:\", e)\n",
    "print(\"Bye\")"
   ]
  },
  {
   "cell_type": "code",
   "execution_count": 4,
   "metadata": {},
   "outputs": [
    {
     "name": "stdout",
     "output_type": "stream",
     "text": [
      "------------------------------Example 4-----------------------------------\n",
      "Resource Open\n",
      "Hello, You cannot divide the number by Zero: division by zero\n",
      "Bye\n"
     ]
    }
   ],
   "source": [
    "#Example 4:\n",
    "a = 5\n",
    "b = 0\n",
    "print(\"------------------------------Example 4-----------------------------------\")\n",
    "try:\n",
    "    print(\"Resource Open\") # Resource may be any database connection or any File opening\n",
    "    print(a/b)\n",
    "    print(\"Resource Closed\")  # Its not printing this message. because once the error happen,\n",
    "                              # It will come out of the try block and go to the exception block.\n",
    "except Exception as e: # printing the error message in the below statement\n",
    "    print(\"Hello, You cannot divide the number by Zero:\", e)\n",
    "print(\"Bye\")"
   ]
  },
  {
   "cell_type": "code",
   "execution_count": 5,
   "metadata": {},
   "outputs": [
    {
     "name": "stdout",
     "output_type": "stream",
     "text": [
      "------------------------------Example 5-----------------------------------\n",
      "Resource Open\n",
      "Hello, You cannot divide the number by Zero: division by zero\n",
      "Resource Closed\n",
      "Bye\n"
     ]
    }
   ],
   "source": [
    "#Example 5:\n",
    "a = 5\n",
    "b = 0\n",
    "print(\"------------------------------Example 5-----------------------------------\")\n",
    "try:\n",
    "    print(\"Resource Open\") # Resource may be any database connection or any File opening\n",
    "    print(a/b)\n",
    "except Exception as e: # printing the error message in the below statement\n",
    "    print(\"Hello, You cannot divide the number by Zero:\", e)\n",
    "    print(\"Resource Closed\")\n",
    "print(\"Bye\")"
   ]
  },
  {
   "cell_type": "code",
   "execution_count": 6,
   "metadata": {},
   "outputs": [
    {
     "name": "stdout",
     "output_type": "stream",
     "text": [
      "------------------------------Example 6-----------------------------------\n",
      "Resource Open\n",
      "Hello, You cannot divide the number by Zero: division by zero\n",
      "Resource Closed\n",
      "Bye\n"
     ]
    }
   ],
   "source": [
    "#Example 6:\n",
    "a = 5\n",
    "b = 0\n",
    "print(\"------------------------------Example 6-----------------------------------\")\n",
    "try:\n",
    "    print(\"Resource Open\") # Resource may be any database connection or any File opening\n",
    "    print(a/b)\n",
    "except Exception as e: # printing the error message in the below statement\n",
    "    print(\"Hello, You cannot divide the number by Zero:\", e)\n",
    "finally:\n",
    "    print(\"Resource Closed\")  # For closing any connection, we can give it in the finally block\n",
    "print(\"Bye\")"
   ]
  },
  {
   "cell_type": "code",
   "execution_count": 7,
   "metadata": {},
   "outputs": [
    {
     "name": "stdout",
     "output_type": "stream",
     "text": [
      "------------------------------Example 7-----------------------------------\n",
      "Resource Open\n",
      "2.5\n",
      "Enter a Number: 3\n",
      "3\n",
      "Resource Closed\n",
      "Bye\n"
     ]
    }
   ],
   "source": [
    "#Example 7: # Handling exception for user input\n",
    "a = 5\n",
    "b = 2\n",
    "print(\"------------------------------Example 7-----------------------------------\")\n",
    "try:\n",
    "    print(\"Resource Open\") # Resource may be any database connection or any File opening\n",
    "    print(a/b)\n",
    "    k = int(input(\"Enter a Number: \"))\n",
    "    print(k)\n",
    "except Exception as e: # printing the error message in the below statement\n",
    "    print(\"Hello, You cannot divide the number by Zero:\", e)\n",
    "finally:\n",
    "    print(\"Resource Closed\")  # For closing any connection, we can give it in the finally block\n",
    "print(\"Bye\")"
   ]
  },
  {
   "cell_type": "code",
   "execution_count": 1,
   "metadata": {},
   "outputs": [
    {
     "name": "stdout",
     "output_type": "stream",
     "text": [
      "------------------------------Example 8-----------------------------------\n",
      "Resource Open\n",
      "2.5\n",
      "Enter a Number: 3\n",
      "3\n",
      "Resource Closed\n",
      "Bye\n"
     ]
    }
   ],
   "source": [
    "#Example 8:\n",
    "a = 5\n",
    "b = 2\n",
    "print(\"------------------------------Example 8-----------------------------------\")\n",
    "try:\n",
    "    print(\"Resource Open\") # Resource may be any database connection or any File opening\n",
    "    print(a/b)\n",
    "    k = int(input(\"Enter a Number: \"))\n",
    "    print(k)\n",
    "except ZeroDivisionError as e: # printing the error message in the below statement\n",
    "    print(\"Hello, You cannot divide the number by Zero:\", e)\n",
    "\n",
    "except ValueError as e:  # If the input is string, then it is ValueError. So we giving explicitly for ValueError\n",
    "    print(\"Invalid Input\")\n",
    "# If we not have ValueError exception block, then it will go to our Exception block and print the message we given in there\n",
    "\n",
    "except Exception: # If we dont know whats the error, so it is safe to handle the exception with some message\n",
    "    print(\"Something went wrong\")\n",
    "\n",
    "finally:\n",
    "    print(\"Resource Closed\")  # For closing any connection, we can give it in the finally block\n",
    "print(\"Bye\")"
   ]
  },
  {
   "cell_type": "code",
   "execution_count": 6,
   "metadata": {},
   "outputs": [
    {
     "name": "stdout",
     "output_type": "stream",
     "text": [
      "------------------------------Example 8-----------------------------------\n",
      "Resource Open\n",
      "Hello, You cannot divide the number by Zero : division by zero\n",
      "Resource Closed\n",
      "Bye\n"
     ]
    }
   ],
   "source": [
    "#Example 8a: #The code will come out of try block on line no 7 and  \n",
    "        # It will go inside except block and through ZeroDivisionError. and the execution will go to the finally block\n",
    "a = 5\n",
    "b = 0\n",
    "print(\"------------------------------Example 8-----------------------------------\")\n",
    "try:\n",
    "    print(\"Resource Open\") # Resource may be any database connection or any File opening\n",
    "    print(a/b)\n",
    "    k = int(input(\"Enter a Number: \"))\n",
    "    print(k)\n",
    "except ZeroDivisionError as e: # printing the error message in the below statement\n",
    "    print(\"Hello, You cannot divide the number by Zero :\", e)\n",
    "\n",
    "except ValueError as e:  # If the input is string, then it is ValueError. So we giving explicitly for ValueError\n",
    "    print(\"Invalid Input :\", e)\n",
    "# If we not have ValueError exception block, then it will go to our Exception block and print the message we given in there\n",
    "\n",
    "except Exception: # If we dont know whats the error, so it is safe to handle the exception with some message\n",
    "    print(\"Something went wrong\")\n",
    "\n",
    "finally:\n",
    "    print(\"Resource Closed\")  # For closing any connection, we can give it in the finally block\n",
    "print(\"Bye\")"
   ]
  },
  {
   "cell_type": "code",
   "execution_count": 9,
   "metadata": {},
   "outputs": [
    {
     "name": "stdout",
     "output_type": "stream",
     "text": [
      "------------------------------Example 8-----------------------------------\n",
      "Resource Open\n",
      "1.6666666666666667\n",
      "Enter a Number: abc\n",
      "Invalid Input : invalid literal for int() with base 10: 'abc'\n",
      "Resource Closed\n",
      "Bye\n"
     ]
    }
   ],
   "source": [
    "#Example 8b: #The code will come out of try block on line no 9 and  \n",
    "        # It will go inside except block and through ValueError. and the execution will go to the finally block\n",
    "a = 5\n",
    "b = 3\n",
    "print(\"------------------------------Example 8-----------------------------------\")\n",
    "try:\n",
    "    print(\"Resource Open\") # Resource may be any database connection or any File opening\n",
    "    print(a/b)\n",
    "    k = int(input(\"Enter a Number: \"))\n",
    "    print(k)\n",
    "except ZeroDivisionError as e: # printing the error message in the below statement\n",
    "    print(\"Hello, You cannot divide the number by Zero :\", e)\n",
    "\n",
    "except ValueError as e:  # If the input is string, then it is ValueError. So we giving explicitly for ValueError\n",
    "    print(\"Invalid Input :\", e)\n",
    "# If we not have ValueError exception block, then it will go to our Exception block and print the message we given in there\n",
    "\n",
    "except Exception: # If we dont know whats the error, so it is safe to handle the exception with some message\n",
    "    print(\"Something went wrong\")\n",
    "\n",
    "finally:\n",
    "    print(\"Resource Closed\")  # For closing any connection, we can give it in the finally block\n",
    "print(\"Bye\")"
   ]
  },
  {
   "cell_type": "code",
   "execution_count": 11,
   "metadata": {},
   "outputs": [
    {
     "ename": "FileNotFoundError",
     "evalue": "[Errno 2] No such file or directory: 'sample1.txt'",
     "output_type": "error",
     "traceback": [
      "\u001b[1;31m---------------------------------------------------------------------------\u001b[0m",
      "\u001b[1;31mFileNotFoundError\u001b[0m                         Traceback (most recent call last)",
      "\u001b[1;32m<ipython-input-11-fc04defa5718>\u001b[0m in \u001b[0;36m<module>\u001b[1;34m\u001b[0m\n\u001b[0;32m      1\u001b[0m \u001b[1;31m#Example 9:\u001b[0m\u001b[1;33m\u001b[0m\u001b[1;33m\u001b[0m\u001b[1;33m\u001b[0m\u001b[0m\n\u001b[1;32m----> 2\u001b[1;33m \u001b[0mfile_open\u001b[0m \u001b[1;33m=\u001b[0m \u001b[0mopen\u001b[0m\u001b[1;33m(\u001b[0m\u001b[1;34m\"sample1.txt\"\u001b[0m\u001b[1;33m)\u001b[0m\u001b[1;33m\u001b[0m\u001b[1;33m\u001b[0m\u001b[0m\n\u001b[0m\u001b[0;32m      3\u001b[0m \u001b[0mfile_open\u001b[0m\u001b[1;33m.\u001b[0m\u001b[0mread\u001b[0m\u001b[1;33m(\u001b[0m\u001b[1;33m)\u001b[0m\u001b[1;33m\u001b[0m\u001b[1;33m\u001b[0m\u001b[0m\n",
      "\u001b[1;31mFileNotFoundError\u001b[0m: [Errno 2] No such file or directory: 'sample1.txt'"
     ]
    }
   ],
   "source": [
    "#Example 9: # There is a Runtime error in the code.\n",
    "file_open = open(\"sample1.txt\")\n",
    "file_open.read()\n"
   ]
  },
  {
   "cell_type": "code",
   "execution_count": 16,
   "metadata": {},
   "outputs": [
    {
     "name": "stdout",
     "output_type": "stream",
     "text": [
      "Something wrong with the path of the file: [Errno 2] No such file or directory: 'sample1.txt'\n"
     ]
    }
   ],
   "source": [
    "#Example 9a: ( We are handling the Runtime error that is thrown by try block on line no 4)\n",
    "try:\n",
    "    file_open = open(\"sample1.txt\")\n",
    "    file_open.read()\n",
    "    print(\"The file is opened\") # The line is not executed. Because there is an error on the line no 4\n",
    "except FileNotFoundError as e:\n",
    "    print(\"Something wrong with the path of the file:\", e)\n",
    "except Exception:\n",
    "    print(\"The file may not existing.\")"
   ]
  },
  {
   "cell_type": "code",
   "execution_count": 18,
   "metadata": {},
   "outputs": [
    {
     "name": "stdout",
     "output_type": "stream",
     "text": [
      "Hello. How are you.\n",
      "The file is opened\n"
     ]
    }
   ],
   "source": [
    "#Example 9b: (We are having the file, then the entire try block is executed and code not gone through except block.\n",
    "try:\n",
    "    file_open = open(\"sample1.txt\")\n",
    "    print(file_open.read())\n",
    "    print(\"The file is opened\") # The line is not executed. Because there is an error on the line no 4\n",
    "except FileNotFoundError as e:\n",
    "    print(\"Something wrong with the path of the file:\", e)\n",
    "except Exception:\n",
    "    print(\"The file may not existing.\")"
   ]
  },
  {
   "cell_type": "code",
   "execution_count": 20,
   "metadata": {},
   "outputs": [
    {
     "name": "stdout",
     "output_type": "stream",
     "text": [
      "Hello. How are you.\n",
      "The file is opened\n",
      "The finally block is executed\n"
     ]
    }
   ],
   "source": [
    "#Example 9c: (We are having the file, then the entire try block is executed and code not gone through except block and\n",
    "             # the finally block is executed.\n",
    "try:\n",
    "    file_open = open(\"sample1.txt\")\n",
    "    print(file_open.read())\n",
    "    print(\"The file is opened\") # The line is not executed. Because there is an error on the line no 4\n",
    "except FileNotFoundError as e:\n",
    "    print(\"Something wrong with the path of the file:\", e)\n",
    "except Exception:\n",
    "    print(\"The file may not existing.\")\n",
    "finally:\n",
    "    print(\"The finally block is executed\")\n",
    "    file_open.close()"
   ]
  },
  {
   "cell_type": "code",
   "execution_count": 22,
   "metadata": {},
   "outputs": [
    {
     "name": "stdout",
     "output_type": "stream",
     "text": [
      "Something wrong with the path of the file: [Errno 2] No such file or directory: 'sample2.txt'\n",
      "The finally block is executed\n"
     ]
    }
   ],
   "source": [
    "#Example 10a: we having try, except, else and finally block\n",
    "# In this example, the try block throw an error. So except block executed and else block not executed \n",
    "# and finally block executed\n",
    "try:\n",
    "    file_open = open(\"sample2.txt\")\n",
    "    print(file_open.read())\n",
    "    print(\"The file is opened\") # The line is not executed. Because there is an error on the line no 4\n",
    "    \n",
    "except FileNotFoundError as e:\n",
    "    print(\"Something wrong with the path of the file:\", e)\n",
    "except Exception:\n",
    "    print(\"The file may not existing.\")\n",
    "else:\n",
    "    print(\"Else block is getting executed\")\n",
    "    \n",
    "finally:\n",
    "    print(\"The finally block is executed\")\n",
    "    file_open.close()"
   ]
  },
  {
   "cell_type": "code",
   "execution_count": 23,
   "metadata": {},
   "outputs": [
    {
     "name": "stdout",
     "output_type": "stream",
     "text": [
      "Hello. How are you.\n",
      "The file is opened\n",
      "Else block is getting executed\n",
      "The finally block is executed\n"
     ]
    }
   ],
   "source": [
    "#Example 10b: we having try, except, else and finally block\n",
    "# In this example, the try block is executed completely. So except block not executed and else block executed \n",
    "# and finally block executed\n",
    "try:\n",
    "    file_open = open(\"sample1.txt\")\n",
    "    print(file_open.read())\n",
    "    print(\"The file is opened\") # The line is not executed. Because there is an error on the line no 4\n",
    "    \n",
    "except FileNotFoundError as e:\n",
    "    print(\"Something wrong with the path of the file:\", e)\n",
    "except Exception:\n",
    "    print(\"The file may not existing.\")\n",
    "else:\n",
    "    print(\"Else block is getting executed\")\n",
    "    \n",
    "finally:\n",
    "    print(\"The finally block is executed\")\n",
    "    file_open.close()"
   ]
  },
  {
   "cell_type": "code",
   "execution_count": 24,
   "metadata": {},
   "outputs": [
    {
     "name": "stdout",
     "output_type": "stream",
     "text": [
      "Please enter an integer: 123\n",
      "Yep thats an integer!\n",
      "Finally, I executed!\n",
      "123\n"
     ]
    }
   ],
   "source": [
    "# Example 11 a:\n",
    "def askint():\n",
    "    while True:\n",
    "        try:\n",
    "            val = int(input(\"Please enter an integer: \"))\n",
    "        except:\n",
    "            print(\"Looks like you did not enter an integer!\")\n",
    "            break\n",
    "        else:\n",
    "            print('Yep thats an integer!')\n",
    "            break\n",
    "        finally:\n",
    "            print(\"Finally, I executed!\")\n",
    "            print(val) \n",
    "askint()"
   ]
  },
  {
   "cell_type": "code",
   "execution_count": 26,
   "metadata": {},
   "outputs": [
    {
     "name": "stdout",
     "output_type": "stream",
     "text": [
      "Please enter an integer: abc\n",
      "Looks like you did not enter an integer!\n",
      "Finally, I executed!\n"
     ]
    }
   ],
   "source": [
    "# Example 11 b:\n",
    "def askint():\n",
    "    while True:\n",
    "        try:\n",
    "            val = int(input(\"Please enter an integer: \"))\n",
    "        except:\n",
    "            print(\"Looks like you did not enter an integer!\")\n",
    "            break\n",
    "        else:\n",
    "            print('Yep thats an integer!')\n",
    "            break\n",
    "        finally:\n",
    "            print(\"Finally, I executed!\")\n",
    "askint()"
   ]
  }
 ],
 "metadata": {
  "kernelspec": {
   "display_name": "Python 3",
   "language": "python",
   "name": "python3"
  },
  "language_info": {
   "codemirror_mode": {
    "name": "ipython",
    "version": 3
   },
   "file_extension": ".py",
   "mimetype": "text/x-python",
   "name": "python",
   "nbconvert_exporter": "python",
   "pygments_lexer": "ipython3",
   "version": "3.8.3"
  }
 },
 "nbformat": 4,
 "nbformat_minor": 4
}
