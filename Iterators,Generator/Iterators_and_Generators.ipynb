{
 "cells": [
  {
   "cell_type": "code",
   "execution_count": 1,
   "metadata": {},
   "outputs": [],
   "source": [
    "# Iterators:\n",
    "# Iterator can be created using \"Iter\" keyword\n",
    "# we can forloop and next() to iterate the values inside the lst/collection.\n",
    "# Itertor is much more efficient"
   ]
  },
  {
   "cell_type": "code",
   "execution_count": 2,
   "metadata": {},
   "outputs": [
    {
     "name": "stdout",
     "output_type": "stream",
     "text": [
      "1\n",
      "2\n",
      "3\n",
      "4\n"
     ]
    }
   ],
   "source": [
    "# Example 1: This is called Iterable.\n",
    "# We are iterating the data inside the collection using for loop\n",
    "lst=[1,2,3,4]\n",
    "for i in lst:\n",
    "    print(i)"
   ]
  },
  {
   "cell_type": "code",
   "execution_count": 3,
   "metadata": {},
   "outputs": [
    {
     "name": "stdout",
     "output_type": "stream",
     "text": [
      "<class 'list_iterator'>\n",
      "1\n",
      "2\n",
      "3\n",
      "4\n"
     ]
    }
   ],
   "source": [
    "# Example 2: # We are creating the iterator and iterating using for loop\n",
    "lst=[1,2,3,4]\n",
    "iterable = iter(lst) # creating iterator with the help of \"iter\" keyword\n",
    "print(type(iterable)) # Printing the type of iterable\n",
    "for i in iterable:\n",
    "    print(i)\n",
    "    "
   ]
  },
  {
   "cell_type": "code",
   "execution_count": 4,
   "metadata": {},
   "outputs": [
    {
     "name": "stdout",
     "output_type": "stream",
     "text": [
      "1\n",
      "2\n",
      "3\n",
      "4\n",
      "No more elements in the list\n"
     ]
    }
   ],
   "source": [
    "# Example 3: # We are creating the iterator and iterating using next()\n",
    "lst=[1,2,3,4]\n",
    "iterable = iter(lst) # creating iterator with the help of \"iter\" keyword\n",
    "print(next(iterable)) # next() used to iterate the elements in the list by one by one. Once it finishing\n",
    "# iterating all the values in the list, then it will throw an error message \"StopIteration\".\n",
    "print(next(iterable))\n",
    "print(next(iterable))\n",
    "print(next(iterable))\n",
    "try:\n",
    "    next(iterable)\n",
    "except StopIteration:\n",
    "    print(\"No more elements in the list\")"
   ]
  },
  {
   "cell_type": "code",
   "execution_count": 5,
   "metadata": {},
   "outputs": [],
   "source": [
    "# Generators - It is really used inorder to create the iterator\n",
    "# Generator uses \"yield\" keyword to create a generator. which is eventually creating the iterator\n",
    "# The \"yield\" keyword store the local variable and returns the variable\n",
    "# Generator helps us to write fast and compact code."
   ]
  },
  {
   "cell_type": "code",
   "execution_count": 6,
   "metadata": {},
   "outputs": [
    {
     "name": "stdout",
     "output_type": "stream",
     "text": [
      "-----Printing without Genertor function-----------\n",
      "0\n"
     ]
    }
   ],
   "source": [
    "# Example 1: squaring the number without genertor function.\n",
    "def square(n):\n",
    "    for i in range(n):\n",
    "        return i**2\n",
    "    \n",
    "result = square(3)\n",
    "print(\"-----Printing without Genertor function-----------\")\n",
    "print(result)  # It's only returns the first value. Its not iterating."
   ]
  },
  {
   "cell_type": "code",
   "execution_count": 7,
   "metadata": {},
   "outputs": [
    {
     "name": "stdout",
     "output_type": "stream",
     "text": [
      "------Printing the Generator object--------------\n",
      "<generator object square at 0x000001D11FCC9AC0>\n"
     ]
    }
   ],
   "source": [
    "# Example 2a: squaring the number with the help of genertor function.\n",
    "def square(n):\n",
    "    for i in range(n):\n",
    "        yield i**2  # Generator uses yield keyword, which is creating the itertor\n",
    "    \n",
    "result = square(3)\n",
    "print(\"------Printing the Generator object--------------\")\n",
    "print(result) # It is creating the genertor obkject which is iterable"
   ]
  },
  {
   "cell_type": "code",
   "execution_count": 8,
   "metadata": {},
   "outputs": [
    {
     "name": "stdout",
     "output_type": "stream",
     "text": [
      "---------Printing the Generator object using for loop---------------\n",
      "0\n",
      "1\n",
      "4\n"
     ]
    }
   ],
   "source": [
    "# Example 2b:\n",
    "def square(n):\n",
    "    for i in range(n):\n",
    "        yield i**2\n",
    "    \n",
    "result = square(3)\n",
    "print(\"---------Printing the Generator object using for loop---------------\")\n",
    "for i in result: # we are iterting the generator object using for loop\n",
    "    print(i)"
   ]
  },
  {
   "cell_type": "code",
   "execution_count": 9,
   "metadata": {},
   "outputs": [
    {
     "name": "stdout",
     "output_type": "stream",
     "text": [
      "---------Printing the Generator object using next()---------------\n",
      "0\n",
      "1\n",
      "4\n",
      "Iteration is completed\n"
     ]
    }
   ],
   "source": [
    "# Example 2c: squaring the number with the help of genertor function.\n",
    "def square(n):\n",
    "    for i in range(n):\n",
    "        yield i**2  # Generator uses yield keyword, which is creating the itertor\n",
    "    \n",
    "result = square(3)\n",
    "print(\"---------Printing the Generator object using next()---------------\")\n",
    "print(next(result)) # we are iterting the generator object using next()\n",
    "print(next(result))\n",
    "print(next(result))\n",
    "try:\n",
    "    next(result)\n",
    "except StopIteration:\n",
    "    print(\"Iteration is completed\")"
   ]
  },
  {
   "cell_type": "code",
   "execution_count": 10,
   "metadata": {},
   "outputs": [
    {
     "name": "stdout",
     "output_type": "stream",
     "text": [
      "---------Printing the cube of a numbers using forloop---------------\n",
      "1\n",
      "8\n",
      "27\n",
      "64\n",
      "125\n",
      "216\n",
      "343\n",
      "512\n",
      "729\n",
      "1000\n"
     ]
    }
   ],
   "source": [
    "# Example 3: Cube of numbers\n",
    "def get_Cubes(n):\n",
    "    for i in range(1,n+1):\n",
    "        yield i**3\n",
    "        \n",
    "result = get_Cubes(10)\n",
    "print(\"---------Printing the cube of a numbers using forloop---------------\")\n",
    "for i in result:\n",
    "    print(i)"
   ]
  }
 ],
 "metadata": {
  "kernelspec": {
   "display_name": "Python 3",
   "language": "python",
   "name": "python3"
  },
  "language_info": {
   "codemirror_mode": {
    "name": "ipython",
    "version": 3
   },
   "file_extension": ".py",
   "mimetype": "text/x-python",
   "name": "python",
   "nbconvert_exporter": "python",
   "pygments_lexer": "ipython3",
   "version": "3.8.3"
  }
 },
 "nbformat": 4,
 "nbformat_minor": 4
}
