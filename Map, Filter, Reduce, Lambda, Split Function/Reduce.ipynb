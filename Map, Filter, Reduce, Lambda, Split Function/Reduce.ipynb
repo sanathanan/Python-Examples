{
 "cells": [
  {
   "cell_type": "markdown",
   "metadata": {},
   "source": [
    "Reduce Function\n",
    "we need to add library - \"From functools import reduce\"\n",
    "The reduce() will calculate the first two values and the output of first two will be \n",
    "calculated with third value and it follows - Until it give the final single output"
   ]
  },
  {
   "cell_type": "code",
   "execution_count": 1,
   "metadata": {},
   "outputs": [],
   "source": [
    "from functools import reduce"
   ]
  },
  {
   "cell_type": "code",
   "execution_count": 2,
   "metadata": {},
   "outputs": [
    {
     "name": "stdout",
     "output_type": "stream",
     "text": [
      "The Greater Value is 101\n"
     ]
    }
   ],
   "source": [
    "# Finding the Greatest value from the list\n",
    "lst=[28,27,56,78,101,100,89]\n",
    "greater = lambda a,b: a if(a>b) else b\n",
    "greatest_Value = reduce(greater,lst)  # Reduce Function will take function_name and Iterable values\n",
    "print(\"The Greater Value is\", greatest_Value)"
   ]
  },
  {
   "cell_type": "code",
   "execution_count": 3,
   "metadata": {},
   "outputs": [
    {
     "name": "stdout",
     "output_type": "stream",
     "text": [
      "Enter the number of numbers you need to enter: 5\n",
      "Enter the values: 28\n",
      "Enter the values: 36\n",
      "Enter the values: 47\n",
      "Enter the values: 1\n",
      "Enter the values: 5\n",
      "The input value is:  [28, 36, 47, 1, 5]\n",
      "The Greater Value is 47\n"
     ]
    }
   ],
   "source": [
    "# Finding the Greatest value from the user input\n",
    "num=int(input(\"Enter the number of numbers you need to enter: \"))\n",
    "lst=[]\n",
    "\n",
    "for i in range(0,num):\n",
    "    values=int(input(\"Enter the values: \"))\n",
    "    lst.append(values)\n",
    "print(\"The input value is: \", lst)\n",
    "greater = lambda a,b: a if(a>b) else b\n",
    "greatest_Value = reduce(greater,lst)  # Reduce Function will take function_name and Iterable values\n",
    "print(\"The Greater Value is\", greatest_Value)"
   ]
  }
 ],
 "metadata": {
  "kernelspec": {
   "display_name": "Python 3",
   "language": "python",
   "name": "python3"
  },
  "language_info": {
   "codemirror_mode": {
    "name": "ipython",
    "version": 3
   },
   "file_extension": ".py",
   "mimetype": "text/x-python",
   "name": "python",
   "nbconvert_exporter": "python",
   "pygments_lexer": "ipython3",
   "version": "3.8.3"
  }
 },
 "nbformat": 4,
 "nbformat_minor": 4
}
