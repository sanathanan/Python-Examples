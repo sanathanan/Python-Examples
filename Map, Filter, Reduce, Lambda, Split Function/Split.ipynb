{
 "cells": [
  {
   "cell_type": "markdown",
   "metadata": {},
   "source": [
    "split() method returns a list of strings after breaking the given string by the special separator\n",
    "Syntax: str.split(separator,Maxsplit)"
   ]
  },
  {
   "cell_type": "code",
   "execution_count": 2,
   "metadata": {},
   "outputs": [
    {
     "name": "stdout",
     "output_type": "stream",
     "text": [
      "['This', 'is', 'a', 'Python', 'Program']\n"
     ]
    }
   ],
   "source": [
    "# Example 1: splitting by spaces\n",
    "text= \"This is a Python Program\"\n",
    "txt = text.split(\" \")\n",
    "print(txt)"
   ]
  },
  {
   "cell_type": "code",
   "execution_count": 3,
   "metadata": {},
   "outputs": [
    {
     "name": "stdout",
     "output_type": "stream",
     "text": [
      "['This', 'is', 'a', 'Python', 'Program']\n"
     ]
    }
   ],
   "source": [
    "# Example 2: splitting by \",\"\n",
    "text= \"This,is,a,Python,Program\"\n",
    "txt = text.split(\",\")\n",
    "print(txt)"
   ]
  },
  {
   "cell_type": "code",
   "execution_count": 4,
   "metadata": {},
   "outputs": [
    {
     "name": "stdout",
     "output_type": "stream",
     "text": [
      "['This', 'is', 'a', 'Python', 'Program']\n"
     ]
    }
   ],
   "source": [
    "# Example 3: splitting by \":\"\n",
    "text= \"This:is:a:Python:Program\"\n",
    "txt = text.split(\":\")\n",
    "print(txt)"
   ]
  },
  {
   "cell_type": "code",
   "execution_count": 5,
   "metadata": {},
   "outputs": [
    {
     "name": "stdout",
     "output_type": "stream",
     "text": [
      "['apple', 'banana', 'cherry', 'orange']\n"
     ]
    }
   ],
   "source": [
    "# Example 4: splitting by \"#\"\n",
    "text = \"apple#banana#cherry#orange\"\n",
    "txt = text.split(\"#\")\n",
    "print(txt)"
   ]
  },
  {
   "cell_type": "code",
   "execution_count": 6,
   "metadata": {},
   "outputs": [
    {
     "name": "stdout",
     "output_type": "stream",
     "text": [
      "['apple', 'banana#cherry#orange']\n"
     ]
    }
   ],
   "source": [
    "# Example 5a: splitting by \"#\"  (Maximum splitting up to 1)\n",
    "text = \"apple#banana#cherry#orange\"\n",
    "txt = text.split(\"#\",1)\n",
    "print(txt)"
   ]
  },
  {
   "cell_type": "code",
   "execution_count": 7,
   "metadata": {},
   "outputs": [
    {
     "name": "stdout",
     "output_type": "stream",
     "text": [
      "['apple', 'banana', 'cherry#orange']\n"
     ]
    }
   ],
   "source": [
    "# Example 5b: splitting by \"#\" (Maximum splitting up to 2)\n",
    "text = \"apple#banana#cherry#orange\"\n",
    "txt = text.split(\"#\",2)\n",
    "print(txt)"
   ]
  }
 ],
 "metadata": {
  "kernelspec": {
   "display_name": "Python 3",
   "language": "python",
   "name": "python3"
  },
  "language_info": {
   "codemirror_mode": {
    "name": "ipython",
    "version": 3
   },
   "file_extension": ".py",
   "mimetype": "text/x-python",
   "name": "python",
   "nbconvert_exporter": "python",
   "pygments_lexer": "ipython3",
   "version": "3.8.3"
  }
 },
 "nbformat": 4,
 "nbformat_minor": 4
}
