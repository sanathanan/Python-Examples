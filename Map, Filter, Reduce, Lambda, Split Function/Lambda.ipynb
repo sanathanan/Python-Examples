{
 "cells": [
  {
   "cell_type": "markdown",
   "metadata": {},
   "source": [
    "Lambda Function Examples\n",
    "Lambda functioon is a anonymous function and it dont have any name\n",
    "Writing a function without the def keyword and function name. \n",
    "instead of def keyword, need to specify the lambda fuction and passing the variable to compute the function"
   ]
  },
  {
   "cell_type": "code",
   "execution_count": 1,
   "metadata": {},
   "outputs": [
    {
     "name": "stdout",
     "output_type": "stream",
     "text": [
      "[33.8, 35.6, 37.4, 104.0]\n",
      "[33.8, 35.6, 37.4, 104.0]\n"
     ]
    }
   ],
   "source": [
    "# Example 1: Using Lambda Function\n",
    "num =[1,2,3,40]\n",
    "result = list(map(lambda x: (((9/5)*x)+32), num))\n",
    "print(result)\n",
    "\n",
    "# Example 1a: Without using lambda function\n",
    "def farenheit(num):\n",
    "    return (float((9/5)*num) + 32)\n",
    "     \n",
    "num=[1,2,3,40]\n",
    "l1=[]\n",
    "for i in num:\n",
    "    l1.append(farenheit(i))\n",
    "print(l1)"
   ]
  },
  {
   "cell_type": "code",
   "execution_count": 3,
   "metadata": {},
   "outputs": [
    {
     "name": "stdout",
     "output_type": "stream",
     "text": [
      "[1, 4, 9, 16, 25, 36, 49, 64, 81, 100]\n",
      "[1, 4, 9, 16, 25, 36, 49, 64, 81, 100]\n"
     ]
    }
   ],
   "source": [
    "# Note: map() function will be applied to lambda function. Because it will create the loops\n",
    "# Example 2: Square of a given numbers in list using lambda Function\n",
    "num=[1,2,3,4,5,6,7,8,9,10]\n",
    "result = list(map(lambda x: x**2, num))\n",
    "print(result)\n",
    "\n",
    "# Example 2a: without lambda function\n",
    "def square(num):\n",
    "    return num*num\n",
    "num=[1,2,3,4,5,6,7,8,9,10]\n",
    "l1=[]\n",
    "for i in num:\n",
    "    l1.append(square(i))\n",
    "print(l1)"
   ]
  }
 ],
 "metadata": {
  "kernelspec": {
   "display_name": "Python 3",
   "language": "python",
   "name": "python3"
  },
  "language_info": {
   "codemirror_mode": {
    "name": "ipython",
    "version": 3
   },
   "file_extension": ".py",
   "mimetype": "text/x-python",
   "name": "python",
   "nbconvert_exporter": "python",
   "pygments_lexer": "ipython3",
   "version": "3.8.3"
  }
 },
 "nbformat": 4,
 "nbformat_minor": 4
}
