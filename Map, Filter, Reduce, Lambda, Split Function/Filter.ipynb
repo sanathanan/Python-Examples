{
 "cells": [
  {
   "cell_type": "code",
   "execution_count": 4,
   "metadata": {},
   "outputs": [
    {
     "name": "stdout",
     "output_type": "stream",
     "text": [
      "[2, 4, 6, 8, 10]\n",
      "[2, 4, 6, 8, 10]\n"
     ]
    }
   ],
   "source": [
    "# Filter Function Example - Using lambda function:\n",
    "lst=[1,2,3,4,5,6,7,8,9,10]\n",
    "even_function= (lambda x: x%2==0)\n",
    "num =filter(even_function,lst)\n",
    "print(list(num))\n",
    "\n",
    "# Filter function Example - Using  Function\n",
    "def even_function(lst):\n",
    "    if lst %2 ==0:\n",
    "        return True\n",
    "    \n",
    "lst=[1,2,3,4,5,6,7,8,9,10]\n",
    "print(list(filter(even_function,lst)))"
   ]
  },
  {
   "cell_type": "code",
   "execution_count": 5,
   "metadata": {},
   "outputs": [
    {
     "name": "stdout",
     "output_type": "stream",
     "text": [
      "[2, 4, 6, 8, 10]\n",
      "[2, 4, 6, 8, 10]\n",
      "2 4 6 8 10 "
     ]
    }
   ],
   "source": [
    "# Filter working principle with the help of def func\n",
    "def even_function(lst):\n",
    "    lst1=[]\n",
    "    for i in lst:\n",
    "        if i%2 ==0:\n",
    "            lst1.append(i)\n",
    "    return lst1\n",
    "    \n",
    "lst=[1,2,3,4,5,6,7,8,9,10]\n",
    "print(even_function(lst))\n",
    "\n",
    "# Filter working principle with the help of list_comprehension\n",
    "lst=[1,2,3,4,5,6,7,8,9,10]\n",
    "even=[i for i in lst if i%2 ==0]\n",
    "print(even)\n",
    "\n",
    "\n",
    "# Filter working principle with the help of for loop\n",
    "lst=[1,2,3,4,5,6,7,8,9,10]\n",
    "for i in lst:\n",
    "    if i%2 ==0:\n",
    "        print(i, end=\" \")"
   ]
  }
 ],
 "metadata": {
  "kernelspec": {
   "display_name": "Python 3",
   "language": "python",
   "name": "python3"
  },
  "language_info": {
   "codemirror_mode": {
    "name": "ipython",
    "version": 3
   },
   "file_extension": ".py",
   "mimetype": "text/x-python",
   "name": "python",
   "nbconvert_exporter": "python",
   "pygments_lexer": "ipython3",
   "version": "3.8.3"
  }
 },
 "nbformat": 4,
 "nbformat_minor": 4
}
