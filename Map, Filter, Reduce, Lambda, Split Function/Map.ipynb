{
 "cells": [
  {
   "cell_type": "markdown",
   "metadata": {},
   "source": [
    "Map is a function that takes 2 arguments:\n",
    "    # Function\n",
    "    # Sequence (iterable)\n",
    "    # map(funtion_name, sequence(iterbale))"
   ]
  },
  {
   "cell_type": "code",
   "execution_count": 1,
   "metadata": {},
   "outputs": [
    {
     "name": "stdout",
     "output_type": "stream",
     "text": [
      "[50.0, 68.0, 86.0, 104.0]\n",
      "[50.0, 68.0, 86.0, 104.0]\n"
     ]
    }
   ],
   "source": [
    "# Example 1:Finding the temperature in Fahrenheit Without Map Function\n",
    "def fahrenheit(i):\n",
    "    return (float(9/5)*i + 32)\n",
    "\n",
    "temp=[10,20,30,40]\n",
    "l1=[]\n",
    "for i in temp:\n",
    "    l1.append(fahrenheit(i))\n",
    "print(l1)\n",
    "\n",
    "\n",
    "# Example 1: Finding the temperature in Fahrenheit with Map Function\n",
    "def fahrenheit_fn(i):\n",
    "    return (float(9/5)*i + 32)\n",
    "\n",
    "temp=[10,20,30,40]\n",
    "\n",
    "fahrenheit_fn = list(map(fahrenheit_fn,temp))\n",
    "print(fahrenheit_fn)"
   ]
  }
 ],
 "metadata": {
  "kernelspec": {
   "display_name": "Python 3",
   "language": "python",
   "name": "python3"
  },
  "language_info": {
   "codemirror_mode": {
    "name": "ipython",
    "version": 3
   },
   "file_extension": ".py",
   "mimetype": "text/x-python",
   "name": "python",
   "nbconvert_exporter": "python",
   "pygments_lexer": "ipython3",
   "version": "3.8.3"
  }
 },
 "nbformat": 4,
 "nbformat_minor": 4
}
