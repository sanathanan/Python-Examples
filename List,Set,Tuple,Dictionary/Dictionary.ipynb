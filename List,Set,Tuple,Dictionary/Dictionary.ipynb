{
 "cells": [
  {
   "cell_type": "code",
   "execution_count": 9,
   "metadata": {},
   "outputs": [],
   "source": [
    "# Dictionary\n",
    "# Dictionary helps to do mapping. It contains \"Key\" and \"Value\" pairs."
   ]
  },
  {
   "cell_type": "code",
   "execution_count": 10,
   "metadata": {},
   "outputs": [
    {
     "name": "stdout",
     "output_type": "stream",
     "text": [
      "<class 'dict'>\n",
      "{'name1': 'Sanath', 'name2': 'Thangaraj'}\n"
     ]
    }
   ],
   "source": [
    "# Example 1:\n",
    "# Creating the dictionary\n",
    "t={}  #  Creating the empty dictionary\n",
    "print(type(t)) # Type of Dictionary\n",
    "t[\"name1\"]=\"Sanath\" # Adding data to the dictionary\n",
    "t[\"name2\"]= \"Thangaraj\"\n",
    "print(t) # Output of the data in the dictionary"
   ]
  },
  {
   "cell_type": "code",
   "execution_count": 11,
   "metadata": {},
   "outputs": [
    {
     "name": "stdout",
     "output_type": "stream",
     "text": [
      "-----Printing the data in num-------------\n",
      "123\n",
      "-----Printing the data in key1 of index 1-------------\n",
      "2\n",
      "-----Printing the data in vegetabkes of index 2-------------\n",
      "Tomato\n",
      "-----Printing the data in vegetabkes of index 1 and converting to Upper case-------------\n",
      "ONION\n",
      "-----changing the data of key1 of the index o element -------------\n",
      "[1234, 2, 3]\n",
      "-------Printing only the keys in the dictionary\n",
      "['num', 'key1', 'Vegetables']\n",
      "-----------Printing only the values in the dictionary\n",
      "[123, [1234, 2, 3], ['Carrot', 'Onion', 'Tomato', 'Cucumber']]\n"
     ]
    }
   ],
   "source": [
    "# Example 2: Dictionary data elements\n",
    "d={\"num\":123, \"key1\":[1,2,3], \"Vegetables\":[\"Carrot\",\"Onion\",\"Tomato\",\"Cucumber\"]}\n",
    "print(\"-----Printing the data in num-------------\")\n",
    "print(d[\"num\"])\n",
    "print(\"-----Printing the data in key1 of index 1-------------\")\n",
    "print(d[\"key1\"][1])\n",
    "print(\"-----Printing the data in vegetabkes of index 2-------------\")\n",
    "print(d[\"Vegetables\"][2])\n",
    "print(\"-----Printing the data in vegetabkes of index 1 and converting to Upper case-------------\")\n",
    "print(d[\"Vegetables\"][1].upper())\n",
    "print(\"-----changing the data of key1 of the index o element -------------\")\n",
    "d[\"key1\"][0]=1234\n",
    "print(d[\"key1\"])\n",
    "print(\"-------Printing only the keys in the dictionary\")\n",
    "print(list(d.keys()))\n",
    "print(\"-----------Printing only the values in the dictionary\")\n",
    "print(list(d.values()))"
   ]
  },
  {
   "cell_type": "code",
   "execution_count": 12,
   "metadata": {},
   "outputs": [
    {
     "name": "stdout",
     "output_type": "stream",
     "text": [
      " -------------Nesting with Dictionaries ---------------\n",
      "[1, 2, 3, 4, 5, 6, 7, 7]\n"
     ]
    }
   ],
   "source": [
    "# Example 3: # Nesting with Dictionaries\n",
    "d={\"key1\":{\"key2\":{\"key3\": [1,2,3,4,5,6,7,7]}}}\n",
    "print(\" -------------Nesting with Dictionaries ---------------\")\n",
    "print(d[\"key1\"][\"key2\"][\"key3\"])"
   ]
  }
 ],
 "metadata": {
  "kernelspec": {
   "display_name": "Python 3",
   "language": "python",
   "name": "python3"
  },
  "language_info": {
   "codemirror_mode": {
    "name": "ipython",
    "version": 3
   },
   "file_extension": ".py",
   "mimetype": "text/x-python",
   "name": "python",
   "nbconvert_exporter": "python",
   "pygments_lexer": "ipython3",
   "version": "3.8.3"
  }
 },
 "nbformat": 4,
 "nbformat_minor": 4
}
