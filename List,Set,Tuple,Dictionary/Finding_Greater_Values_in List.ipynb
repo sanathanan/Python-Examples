{
 "cells": [
  {
   "cell_type": "markdown",
   "metadata": {},
   "source": [
    "Question_1.1:\n",
    "Write a Python Program to implement your own myreduce() function which works exactly like \n",
    "Python's built-in function reduce()"
   ]
  },
  {
   "cell_type": "code",
   "execution_count": 2,
   "metadata": {},
   "outputs": [
    {
     "name": "stdout",
     "output_type": "stream",
     "text": [
      "The Greater value using reduce function is: 1098\n"
     ]
    }
   ],
   "source": [
    "# reduce(function, sequence)\n",
    "# Finding the greatest of values from the given list\n",
    "\n",
    "# Import statement for reduce()\n",
    "from functools import reduce\n",
    "\n",
    "lst=[28,27,35,45,98,1098,987]\n",
    "max_func=lambda a,b: a if (a>b) else b # lambda function\n",
    "\n",
    "greatest_Value = reduce(max_func,lst) # using reduce function, passing the function and lst to \n",
    "                                      # find the greater values\n",
    "print(\"The Greater value using reduce function is:\",greatest_Value)"
   ]
  },
  {
   "cell_type": "code",
   "execution_count": 3,
   "metadata": {},
   "outputs": [
    {
     "name": "stdout",
     "output_type": "stream",
     "text": [
      "-------------Method 1 using sort()-------------------\n",
      "[27, 28, 35, 45, 98, 987, 1098]\n",
      "The Greater Value is:  1098\n",
      "-------------Method 2 using max()-------------------\n",
      "The Greater Value is:  1098\n",
      "-------------Method 3 using for loop and appending values-------------------\n",
      "The Greater Value is:  1098\n",
      "-------------Method 4 using function()-------------------\n",
      "The Greater Value is: 1098\n"
     ]
    }
   ],
   "source": [
    "# Finding the greater value with out reduce()\n",
    "# Method 1: (Using Sort())\n",
    "lst=[28,27,35,45,98,1098,987]\n",
    "lst = sorted(lst)\n",
    "print(\"-------------Method 1 using sort()-------------------\")\n",
    "print(lst)\n",
    "print(\"The Greater Value is: \", lst[-1])\n",
    "\n",
    "# Method 2: (Using max())\n",
    "lst=[28,27,35,45,98,1098,987]\n",
    "print(\"-------------Method 2 using max()-------------------\")\n",
    "print(\"The Greater Value is: \", max(lst))\n",
    "\n",
    "# Method 3: (Using for() and appending technique)\n",
    "lst=[28,27,35,45,98,1098,987]\n",
    "lst1=[]\n",
    "for i in lst:\n",
    "    lst1.append(i)\n",
    "print(\"-------------Method 3 using for loop and appending values-------------------\")\n",
    "print(\"The Greater Value is: \", max(lst1))\n",
    "\n",
    "# Method 4:\n",
    "def greater_fn(lst):\n",
    "    \n",
    "    # Assuming the first number in the list is max\n",
    "    max = lst[0]\n",
    "    \n",
    "    for i in lst: # Iterating the values in the list\n",
    "        if i > max: # Comparing the itertaed value with the max value defined above\n",
    "            max = i # If iterated value is greater than max value, then assigning the iterated value to max   \n",
    "    return max  # returning the max value\n",
    "    \n",
    "lst=[28,27,35,45,98,1098,987]\n",
    "print(\"-------------Method 4 using function()-------------------\")\n",
    "print(\"The Greater Value is:\", greater_fn(lst))"
   ]
  },
  {
   "cell_type": "code",
   "execution_count": null,
   "metadata": {},
   "outputs": [],
   "source": []
  },
  {
   "cell_type": "code",
   "execution_count": null,
   "metadata": {},
   "outputs": [],
   "source": []
  },
  {
   "cell_type": "code",
   "execution_count": null,
   "metadata": {},
   "outputs": [],
   "source": []
  },
  {
   "cell_type": "code",
   "execution_count": null,
   "metadata": {},
   "outputs": [],
   "source": []
  },
  {
   "cell_type": "code",
   "execution_count": null,
   "metadata": {},
   "outputs": [],
   "source": []
  },
  {
   "cell_type": "code",
   "execution_count": null,
   "metadata": {},
   "outputs": [],
   "source": []
  },
  {
   "cell_type": "code",
   "execution_count": null,
   "metadata": {},
   "outputs": [],
   "source": []
  }
 ],
 "metadata": {
  "kernelspec": {
   "display_name": "Python 3",
   "language": "python",
   "name": "python3"
  },
  "language_info": {
   "codemirror_mode": {
    "name": "ipython",
    "version": 3
   },
   "file_extension": ".py",
   "mimetype": "text/x-python",
   "name": "python",
   "nbconvert_exporter": "python",
   "pygments_lexer": "ipython3",
   "version": "3.8.3"
  }
 },
 "nbformat": 4,
 "nbformat_minor": 4
}
