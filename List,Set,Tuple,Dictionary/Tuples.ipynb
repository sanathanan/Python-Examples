{
 "cells": [
  {
   "cell_type": "code",
   "execution_count": 1,
   "metadata": {},
   "outputs": [],
   "source": [
    "# Tuples\n",
    "# Tuples are like list and they are immutable data. We cannot able to change the values \n",
    "# in the tuples.\n",
    "# When we need the data or constants that need not be changed, the we can use Tuples()"
   ]
  },
  {
   "cell_type": "code",
   "execution_count": 2,
   "metadata": {},
   "outputs": [
    {
     "name": "stdout",
     "output_type": "stream",
     "text": [
      "----------Data Type ----------------------\n",
      "<class 'tuple'>\n",
      "--------Printing the Data in Tuple ---------------------------\n",
      "(1, 2, 3)\n"
     ]
    }
   ],
   "source": [
    "# Exampl 1: Tuple syntax and type\n",
    "t=(1,2,3)\n",
    "print(\"----------Data Type ----------------------\")\n",
    "print(type(t))\n",
    "print(\"--------Printing the Data in Tuple ---------------------------\")\n",
    "print(t)"
   ]
  },
  {
   "cell_type": "code",
   "execution_count": 3,
   "metadata": {},
   "outputs": [
    {
     "name": "stdout",
     "output_type": "stream",
     "text": [
      "--------Printing the Data in Tuple ---------------------------\n",
      "('Hari', 'Abhi', 'Anu')\n",
      "--------Printing data of the index 0 element ---------------------------\n",
      "Hari\n"
     ]
    }
   ],
   "source": [
    "# Example 2: \n",
    "t=(\"Hari\",\"Abhi\", \"Anu\")\n",
    "print(\"--------Printing the Data in Tuple ---------------------------\")\n",
    "print(t)\n",
    "print(\"--------Printing data of the index 0 element ---------------------------\")\n",
    "print(t[0])\n",
    "# t[0] = \"AAnu\"   we cannot able to change the data in the tuple. It will throw an error\n",
    "#t.append(\"AAnu\") # We cannot able to add the new data to the existing data in the tuple\n",
    "#print(t)"
   ]
  },
  {
   "cell_type": "code",
   "execution_count": 4,
   "metadata": {},
   "outputs": [
    {
     "name": "stdout",
     "output_type": "stream",
     "text": [
      "--------Printing the data using list comprehension ---------------------------\n",
      "['Hari', 'Abhi', 'Anu']\n",
      "--------Reversing the data from last to first ---------------------------\n",
      "['Anu', 'Abhi', 'Hari']\n",
      "--------Reversing the data and character from last to first ---------------------------\n",
      "['unA', 'ihbA', 'iraH']\n"
     ]
    }
   ],
   "source": [
    "# Example 3:\n",
    "t=(\"Hari\",\"Abhi\", \"Anu\")\n",
    "result = [i for i in t] # Printing the data using list comprehension\n",
    "result1= [i for i in t][: : -1] # reversing the data from last to first\n",
    "result2= [i[: : -1] for i in t][: : -1] # reversing the data and character from last to first\n",
    "print(\"--------Printing the data using list comprehension ---------------------------\")\n",
    "print(result)\n",
    "print(\"--------Reversing the data from last to first ---------------------------\")\n",
    "print(result1)\n",
    "print(\"--------Reversing the data and character from last to first ---------------------------\")\n",
    "print(result2)"
   ]
  },
  {
   "cell_type": "code",
   "execution_count": 5,
   "metadata": {},
   "outputs": [
    {
     "name": "stdout",
     "output_type": "stream",
     "text": [
      "-------Printing the count funtionality ------------\n",
      "6\n",
      "-------Printing the index funtionality ------------\n",
      "4\n"
     ]
    }
   ],
   "source": [
    "# Example 4 : Count and Index Example\n",
    "num=[1,2,3,4,7,5,6,66,7,7,7,7,7]\n",
    "result = num.count(7)\n",
    "print(\"-------Printing the count funtionality ------------\")\n",
    "print(result)\n",
    "result1 = num.index(7) # It will diaplay the index value of first encountering number of 7\n",
    "print(\"-------Printing the index funtionality ------------\")\n",
    "print(result1)"
   ]
  }
 ],
 "metadata": {
  "kernelspec": {
   "display_name": "Python 3",
   "language": "python",
   "name": "python3"
  },
  "language_info": {
   "codemirror_mode": {
    "name": "ipython",
    "version": 3
   },
   "file_extension": ".py",
   "mimetype": "text/x-python",
   "name": "python",
   "nbconvert_exporter": "python",
   "pygments_lexer": "ipython3",
   "version": "3.8.3"
  }
 },
 "nbformat": 4,
 "nbformat_minor": 4
}
