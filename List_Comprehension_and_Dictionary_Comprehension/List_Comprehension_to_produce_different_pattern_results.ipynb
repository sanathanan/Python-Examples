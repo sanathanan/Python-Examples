{
 "cells": [
  {
   "cell_type": "markdown",
   "metadata": {},
   "source": [
    "\n",
    "Implement List comprehensions to produce the following lists. \n",
    "Write List comprehensions to produce the following Lists\n",
    "['A', 'C', 'A', 'D', 'G', 'I', ’L’, ‘ D’]\n",
    "['x', 'xx', 'xxx', 'xxxx', 'y', 'yy', 'yyy', 'yyyy', 'z', 'zz', 'zzz', 'zzzz'] \n",
    "['x', 'y', 'z', 'xx', 'yy', 'zz', 'xxx', 'yyy', 'zzz', 'xxxx', 'yyyy', 'zzzz'] \n",
    "[[2], [3], [4], [3], [4], [5], [4], [5], [6]]\n",
    "[[2, 3, 4, 5], [3, 4, 5, 6], [4, 5, 6, 7], [5, 6, 7, 8]]\n",
    "[(1, 1), (2, 1), (3, 1), (1, 2), (2, 2), (3, 2), (1, 3), (2, 3), (3, 3)]\n"
   ]
  },
  {
   "cell_type": "code",
   "execution_count": 1,
   "metadata": {},
   "outputs": [
    {
     "name": "stdout",
     "output_type": "stream",
     "text": [
      "['A', 'C', 'A', 'D', 'G', 'I', 'L', 'D']\n",
      "['x', 'xx', 'xxx', 'xxxx', 'y', 'yy', 'yyy', 'yyyy', 'Z', 'ZZ', 'ZZZ', 'ZZZZ']\n",
      "['x', 'y', 'Z', 'xx', 'yy', 'ZZ', 'xxx', 'yyy', 'ZZZ', 'xxxx', 'yyyy', 'ZZZZ']\n",
      "[[2], [3], [4], [3], [4], [5], [4], [5], [6]]\n",
      "[[2, 3, 4, 5], [3, 4, 5, 6], [4, 5, 6, 7], [5, 6, 7, 8]]\n",
      "[(1, 1), (2, 1), (3, 1), (1, 2), (2, 2), (3, 2), (1, 3), (2, 3), (3, 3)]\n"
     ]
    }
   ],
   "source": [
    "# Program 1:\n",
    "# Output: ['A', 'C', 'A', 'D', 'G', 'I', ’L’, ‘ D’]\n",
    "lst =\"ACADGILD\"\n",
    "lst_comp=[i for i in lst]\n",
    "print(lst_comp)\n",
    "\n",
    "# Program 2:\n",
    "# Output: ['x', 'xx', 'xxx', 'xxxx', 'y', 'yy', 'yyy', 'yyyy', 'z', 'zz', 'zzz', 'zzzz'] \n",
    "lst =[\"x\",\"y\",\"Z\"]\n",
    "lst_comp=[i*num for i in lst for num in range(1,5)]\n",
    "print(lst_comp)\n",
    "\n",
    "# Program 3:\n",
    "# Output: ['x', 'y', 'z', 'xx', 'yy', 'zz', 'xxx', 'yyy', 'zzz', 'xxxx', 'yyyy', 'zzzz']\n",
    "lst =[\"x\",\"y\",\"Z\"]\n",
    "lst_comp=[num*i for num in range(1,5) for i in lst]\n",
    "print(lst_comp)\n",
    "\n",
    "# Program 4:\n",
    "# Output: [[2], [3], [4], [3], [4], [5], [4], [5], [6]]\n",
    "lst =[2,3,4]\n",
    "lst_comp=[[i+num] for i in lst for num in range(0,3)]\n",
    "print(lst_comp)\n",
    "\n",
    "# Program 5:\n",
    "# Output: [[2, 3, 4, 5], [3, 4, 5, 6], [4, 5, 6, 7], [5, 6, 7, 8]]\n",
    "lst =[2,3,4,5]\n",
    "lst_comp=[[i+num for num in range(0,4)] for i in lst]\n",
    "print(lst_comp)\n",
    "\n",
    "# program 6:\n",
    "# Output: [(1, 1), (2, 1), (3, 1), (1, 2), (2, 2), (3, 2), (1, 3), (2, 3), (3, 3)]\n",
    "lst=[1,2,3]\n",
    "lst_comp=[(j,i) for i in lst for j in lst]\n",
    "print(lst_comp)"
   ]
  }
 ],
 "metadata": {
  "kernelspec": {
   "display_name": "Python 3",
   "language": "python",
   "name": "python3"
  },
  "language_info": {
   "codemirror_mode": {
    "name": "ipython",
    "version": 3
   },
   "file_extension": ".py",
   "mimetype": "text/x-python",
   "name": "python",
   "nbconvert_exporter": "python",
   "pygments_lexer": "ipython3",
   "version": "3.8.3"
  }
 },
 "nbformat": 4,
 "nbformat_minor": 4
}
