{
 "cells": [
  {
   "cell_type": "markdown",
   "metadata": {},
   "source": [
    "List Comprehension  - It is a single line of code, the output will be in the form of list"
   ]
  },
  {
   "cell_type": "code",
   "execution_count": 1,
   "metadata": {},
   "outputs": [
    {
     "name": "stdout",
     "output_type": "stream",
     "text": [
      "[1, 4, 9, 16, 25, 36, 49]\n"
     ]
    }
   ],
   "source": [
    "#Example 1: (Ordinary List)\n",
    "lst = [1,2,3,4,5,6,7]\n",
    "lst1=[]\n",
    "\n",
    "for i in lst:\n",
    "    lst1.append(i**2)\n",
    "    \n",
    "print(lst1)"
   ]
  },
  {
   "cell_type": "code",
   "execution_count": 2,
   "metadata": {},
   "outputs": [
    {
     "name": "stdout",
     "output_type": "stream",
     "text": [
      "[1, 4, 9, 16, 25, 36, 49]\n"
     ]
    }
   ],
   "source": [
    "#Example 1a: The above program is writen using list_comprehension\n",
    "lst=[1,2,3,4,5,6,7]\n",
    "\n",
    "lst1 = [i**2 for i in lst] # Wrritngit single line of code  \n",
    " \n",
    "print(lst1) "
   ]
  },
  {
   "cell_type": "code",
   "execution_count": 3,
   "metadata": {},
   "outputs": [
    {
     "name": "stdout",
     "output_type": "stream",
     "text": [
      "30\n"
     ]
    }
   ],
   "source": [
    "# Example 2: Sum of even numbers inside a collection using list_comprehension\n",
    "lst=[1,2,3,4,5,6,7,8,9,10]\n",
    "\n",
    "lst1=[i for i in lst if i%2==0] # Getting the list inside forloop and checking the even number condition\n",
    "                                # using \"if\" and getting the value of i\n",
    "lst1=sum(lst1)\n",
    "print(lst1)"
   ]
  },
  {
   "cell_type": "code",
   "execution_count": 4,
   "metadata": {},
   "outputs": [
    {
     "name": "stdout",
     "output_type": "stream",
     "text": [
      "25\n"
     ]
    }
   ],
   "source": [
    "# Example 3: Sum of odd numbers inside a collection using list_comprehension\n",
    "lst=[1,2,3,4,5,6,7,8,9,10]\n",
    "\n",
    "lst1=[i for i in lst if i%2!=0] # Getting the list inside forloop and checking the even number condition\n",
    "                                # using \"if\" and getting the value of i\n",
    "lst1=sum(lst1)\n",
    "print(lst1)"
   ]
  },
  {
   "cell_type": "code",
   "execution_count": null,
   "metadata": {},
   "outputs": [],
   "source": []
  },
  {
   "cell_type": "code",
   "execution_count": null,
   "metadata": {},
   "outputs": [],
   "source": []
  },
  {
   "cell_type": "code",
   "execution_count": null,
   "metadata": {},
   "outputs": [],
   "source": [
    "    "
   ]
  }
 ],
 "metadata": {
  "kernelspec": {
   "display_name": "Python 3",
   "language": "python",
   "name": "python3"
  },
  "language_info": {
   "codemirror_mode": {
    "name": "ipython",
    "version": 3
   },
   "file_extension": ".py",
   "mimetype": "text/x-python",
   "name": "python",
   "nbconvert_exporter": "python",
   "pygments_lexer": "ipython3",
   "version": "3.8.3"
  }
 },
 "nbformat": 4,
 "nbformat_minor": 4
}
