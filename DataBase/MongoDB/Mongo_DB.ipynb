{
 "cells": [
  {
   "cell_type": "code",
   "execution_count": 1,
   "metadata": {},
   "outputs": [],
   "source": [
    "# Mongo DB"
   ]
  },
  {
   "cell_type": "code",
   "execution_count": 78,
   "metadata": {},
   "outputs": [],
   "source": [
    "# Connection URL - To connnect Python code with MongoDB\n",
    "import pymongo\n",
    "Default_Connection_Url = \"mongodb://localhost:27017/\"  # Connection Url to connect Python code with Mongodb\n",
    "client = pymongo.MongoClient(Default_Connection_Url) # Connecting the python code and Mongodb"
   ]
  },
  {
   "cell_type": "code",
   "execution_count": 79,
   "metadata": {},
   "outputs": [],
   "source": [
    "# Creating a Database\n",
    "DataBase_Name = \"Students\"\n",
    "data_base = client[DataBase_Name]"
   ]
  },
  {
   "cell_type": "code",
   "execution_count": 80,
   "metadata": {},
   "outputs": [],
   "source": [
    "# Creating a collection inside the database (Basically, we are creating a table inside the database)\n",
    "Collection_Name = \"Student_Details\"\n",
    "collection = data_base[Collection_Name]"
   ]
  },
  {
   "cell_type": "code",
   "execution_count": 81,
   "metadata": {},
   "outputs": [
    {
     "data": {
      "text/plain": [
       "['admin', 'config', 'local']"
      ]
     },
     "execution_count": 81,
     "metadata": {},
     "output_type": "execute_result"
    }
   ],
   "source": [
    "# Checking list of datbases\n",
    "client.list_database_names()\n",
    "# We not seeing our Student database. The database will not show until the records are created inside of that database"
   ]
  },
  {
   "cell_type": "code",
   "execution_count": 82,
   "metadata": {},
   "outputs": [
    {
     "data": {
      "text/plain": [
       "<pymongo.results.InsertOneResult at 0x2afdb174e40>"
      ]
     },
     "execution_count": 82,
     "metadata": {},
     "output_type": "execute_result"
    }
   ],
   "source": [
    "# Inserting a single record inside a Collection i.e table\n",
    "record={'Student_Id' : 1,\n",
    "       'Student_Name': 'Sanath',\n",
    "       'Class' : 10,\n",
    "       'Section' : 'A'}\n",
    "collection.insert_one(record)"
   ]
  },
  {
   "cell_type": "code",
   "execution_count": 83,
   "metadata": {},
   "outputs": [
    {
     "data": {
      "text/plain": [
       "['Students', 'admin', 'config', 'local']"
      ]
     },
     "execution_count": 83,
     "metadata": {},
     "output_type": "execute_result"
    }
   ],
   "source": [
    "# Now we are checking our database name\n",
    "client.list_database_names()"
   ]
  },
  {
   "cell_type": "code",
   "execution_count": 84,
   "metadata": {},
   "outputs": [
    {
     "data": {
      "text/plain": [
       "<pymongo.results.InsertManyResult at 0x2afdafdbfc0>"
      ]
     },
     "execution_count": 84,
     "metadata": {},
     "output_type": "execute_result"
    }
   ],
   "source": [
    "# Inserting multiple record to our collection in our databse\n",
    "multiple_record=[\n",
    "                {'Student_Id' : 2,'Student_Name': 'Ram','Class' : 10,'Section' : 'A'},\n",
    "                {'Student_Id' : 3,'Student_Name': 'Kumar','Class' : 10,'Section' : 'B'},\n",
    "                {'Student_Id' : 4,'Student_Name': 'Rahul','Class' : 10,'Section' : 'B'},\n",
    "                {'Student_Id' : 5,'Student_Name': 'Abhi','Class' : 10,'Section' : 'A'}\n",
    "                ]\n",
    "collection.insert_many(multiple_record)"
   ]
  },
  {
   "cell_type": "code",
   "execution_count": 85,
   "metadata": {},
   "outputs": [
    {
     "data": {
      "text/plain": [
       "<pymongo.results.InsertOneResult at 0x2afdaf12bc0>"
      ]
     },
     "execution_count": 85,
     "metadata": {},
     "output_type": "execute_result"
    }
   ],
   "source": [
    "# I am overriding the data for the student id =4\n",
    "record={'Student_Id' : 4,'Student_Name': 'Abhishek','Class' : 10,'Section' : 'B'}\n",
    "collection.insert_one(record)"
   ]
  },
  {
   "cell_type": "code",
   "execution_count": 86,
   "metadata": {},
   "outputs": [
    {
     "name": "stdout",
     "output_type": "stream",
     "text": [
      "The first record of the Student_Details is: {'_id': ObjectId('60262adc5708d7e79f579074'), 'Student_Id': 1, 'Student_Name': 'Sanath', 'Class': 10, 'Section': 'A'} \n"
     ]
    }
   ],
   "source": [
    "# Finding the record in a student_details (It will print our first record)\n",
    "result = collection.find_one()\n",
    "print(f\"The first record of the {Collection_Name} is: {result} \")"
   ]
  },
  {
   "cell_type": "code",
   "execution_count": 87,
   "metadata": {},
   "outputs": [
    {
     "name": "stdout",
     "output_type": "stream",
     "text": [
      "0:{'_id': ObjectId('60262adc5708d7e79f579074'), 'Student_Id': 1, 'Student_Name': 'Sanath', 'Class': 10, 'Section': 'A'}\n",
      "1:{'_id': ObjectId('60262ae25708d7e79f579075'), 'Student_Id': 2, 'Student_Name': 'Ram', 'Class': 10, 'Section': 'A'}\n",
      "2:{'_id': ObjectId('60262ae25708d7e79f579076'), 'Student_Id': 3, 'Student_Name': 'Kumar', 'Class': 10, 'Section': 'B'}\n",
      "3:{'_id': ObjectId('60262ae25708d7e79f579077'), 'Student_Id': 4, 'Student_Name': 'Rahul', 'Class': 10, 'Section': 'B'}\n",
      "4:{'_id': ObjectId('60262ae25708d7e79f579078'), 'Student_Id': 5, 'Student_Name': 'Abhi', 'Class': 10, 'Section': 'A'}\n",
      "5:{'_id': ObjectId('60262ae35708d7e79f579079'), 'Student_Id': 4, 'Student_Name': 'Abhishek', 'Class': 10, 'Section': 'B'}\n"
     ]
    }
   ],
   "source": [
    "result1 = collection.find()\n",
    "\n",
    "for idx,lst in enumerate(result1):\n",
    "    print(f\"{idx}:{lst}\")"
   ]
  },
  {
   "cell_type": "code",
   "execution_count": 88,
   "metadata": {},
   "outputs": [
    {
     "name": "stdout",
     "output_type": "stream",
     "text": [
      "0: {'_id': ObjectId('60262adc5708d7e79f579074'), 'Student_Name': 'Sanath'}\n",
      "1: {'_id': ObjectId('60262ae25708d7e79f579075'), 'Student_Name': 'Ram'}\n",
      "2: {'_id': ObjectId('60262ae25708d7e79f579076'), 'Student_Name': 'Kumar'}\n",
      "3: {'_id': ObjectId('60262ae25708d7e79f579077'), 'Student_Name': 'Rahul'}\n",
      "4: {'_id': ObjectId('60262ae25708d7e79f579078'), 'Student_Name': 'Abhi'}\n",
      "5: {'_id': ObjectId('60262ae35708d7e79f579079'), 'Student_Name': 'Abhishek'}\n"
     ]
    }
   ],
   "source": [
    "# find all the record at once present in the record with SPECIFIC fields\n",
    "all_record = collection.find({}, {\"Student_Name\"})\n",
    "\n",
    "for idx, record in enumerate(all_record):\n",
    "    print(f\"{idx}: {record}\")"
   ]
  },
  {
   "cell_type": "code",
   "execution_count": 89,
   "metadata": {},
   "outputs": [
    {
     "name": "stdout",
     "output_type": "stream",
     "text": [
      "{'_id': ObjectId('60262adc5708d7e79f579074'), 'Student_Id': 1, 'Student_Name': 'Sanath', 'Class': 10, 'Section': 'A'}\n",
      "{'_id': ObjectId('60262ae25708d7e79f579075'), 'Student_Id': 2, 'Student_Name': 'Ram', 'Class': 10, 'Section': 'A'}\n",
      "{'_id': ObjectId('60262ae25708d7e79f579076'), 'Student_Id': 3, 'Student_Name': 'Kumar', 'Class': 10, 'Section': 'B'}\n"
     ]
    }
   ],
   "source": [
    "# setting limits to find the record in a table:\n",
    "limits=3\n",
    "result = collection.find().limit(limits)\n",
    "for data in result:\n",
    "    print(data)"
   ]
  },
  {
   "cell_type": "code",
   "execution_count": 90,
   "metadata": {},
   "outputs": [
    {
     "name": "stdout",
     "output_type": "stream",
     "text": [
      "{'_id': ObjectId('60262adc5708d7e79f579074'), 'Student_Id': 1, 'Student_Name': 'Sanath', 'Class': 10, 'Section': 'A'}\n"
     ]
    }
   ],
   "source": [
    "# Querying or filtering out or retreving the data\n",
    "query={'Student_Id' :1}\n",
    "result = collection.find(query)\n",
    "for i in result:\n",
    "    print(i)"
   ]
  },
  {
   "cell_type": "code",
   "execution_count": 93,
   "metadata": {},
   "outputs": [
    {
     "data": {
      "text/plain": [
       "<pymongo.results.DeleteResult at 0x2afdae5e480>"
      ]
     },
     "execution_count": 93,
     "metadata": {},
     "output_type": "execute_result"
    }
   ],
   "source": [
    "# Deleting a data \n",
    "query_to_delete={'Student_Name': 'Ram'}\n",
    "collection.delete_one(query_to_delete)"
   ]
  },
  {
   "cell_type": "code",
   "execution_count": 95,
   "metadata": {},
   "outputs": [],
   "source": [
    "# Querying to see the \"Ram\" exist in Student_Name. No data available\n",
    "query={'Student_Name' :'Ram'}\n",
    "result = collection.find(query)\n",
    "for i in result:\n",
    "    print(i)"
   ]
  },
  {
   "cell_type": "code",
   "execution_count": 96,
   "metadata": {},
   "outputs": [
    {
     "data": {
      "text/plain": [
       "<pymongo.results.UpdateResult at 0x2afdb017940>"
      ]
     },
     "execution_count": 96,
     "metadata": {},
     "output_type": "execute_result"
    }
   ],
   "source": [
    "# Updating the record\n",
    "old_data = {'Student_Name': 'Kumar'}\n",
    "new_data = {\"$set\":{'Student_Name': 'Kishor'}}\n",
    "\n",
    "collection.update_one(old_data,new_data)"
   ]
  },
  {
   "cell_type": "code",
   "execution_count": 97,
   "metadata": {},
   "outputs": [
    {
     "name": "stdout",
     "output_type": "stream",
     "text": [
      "0: {'_id': ObjectId('60262adc5708d7e79f579074'), 'Student_Name': 'Sanath'}\n",
      "1: {'_id': ObjectId('60262ae25708d7e79f579076'), 'Student_Name': 'Kishor'}\n",
      "2: {'_id': ObjectId('60262ae25708d7e79f579077'), 'Student_Name': 'Rahul'}\n",
      "3: {'_id': ObjectId('60262ae25708d7e79f579078'), 'Student_Name': 'Abhi'}\n",
      "4: {'_id': ObjectId('60262ae35708d7e79f579079'), 'Student_Name': 'Abhishek'}\n"
     ]
    }
   ],
   "source": [
    "# To check the Kumar is changed to Kishor or not - Kumar is change to Kishor\n",
    "all_record = collection.find({}, {\"Student_Name\"})\n",
    "\n",
    "for idx, record in enumerate(all_record):\n",
    "    print(f\"{idx}: {record}\")"
   ]
  },
  {
   "cell_type": "code",
   "execution_count": 98,
   "metadata": {},
   "outputs": [
    {
     "name": "stdout",
     "output_type": "stream",
     "text": [
      "{'_id': ObjectId('60262adc5708d7e79f579074'), 'Student_Id': 1, 'Student_Name': 'Sanath', 'Class': 10, 'Section': 'A'}\n",
      "{'_id': ObjectId('60262ae25708d7e79f579076'), 'Student_Id': 3, 'Student_Name': 'Kishor', 'Class': 10, 'Section': 'B'}\n",
      "{'_id': ObjectId('60262ae25708d7e79f579077'), 'Student_Id': 4, 'Student_Name': 'Rahul', 'Class': 10, 'Section': 'B'}\n",
      "{'_id': ObjectId('60262ae25708d7e79f579078'), 'Student_Id': 5, 'Student_Name': 'Abhi', 'Class': 10, 'Section': 'A'}\n",
      "{'_id': ObjectId('60262ae35708d7e79f579079'), 'Student_Id': 4, 'Student_Name': 'Abhishek', 'Class': 10, 'Section': 'B'}\n"
     ]
    }
   ],
   "source": [
    "result = collection.find()\n",
    "for i in result:\n",
    "    print(i)"
   ]
  },
  {
   "cell_type": "code",
   "execution_count": 99,
   "metadata": {},
   "outputs": [
    {
     "data": {
      "text/plain": [
       "<pymongo.results.UpdateResult at 0x2afdaf75cc0>"
      ]
     },
     "execution_count": 99,
     "metadata": {},
     "output_type": "execute_result"
    }
   ],
   "source": [
    "# Updating the record\n",
    "old_data = {'Class': 10}\n",
    "new_data = {\"$set\":{'Class': '11th'}}\n",
    "\n",
    "collection.update_many(old_data,new_data)"
   ]
  },
  {
   "cell_type": "code",
   "execution_count": 100,
   "metadata": {},
   "outputs": [
    {
     "name": "stdout",
     "output_type": "stream",
     "text": [
      "{'_id': ObjectId('60262adc5708d7e79f579074'), 'Student_Id': 1, 'Student_Name': 'Sanath', 'Class': '11th', 'Section': 'A'}\n",
      "{'_id': ObjectId('60262ae25708d7e79f579076'), 'Student_Id': 3, 'Student_Name': 'Kishor', 'Class': '11th', 'Section': 'B'}\n",
      "{'_id': ObjectId('60262ae25708d7e79f579077'), 'Student_Id': 4, 'Student_Name': 'Rahul', 'Class': '11th', 'Section': 'B'}\n",
      "{'_id': ObjectId('60262ae25708d7e79f579078'), 'Student_Id': 5, 'Student_Name': 'Abhi', 'Class': '11th', 'Section': 'A'}\n",
      "{'_id': ObjectId('60262ae35708d7e79f579079'), 'Student_Id': 4, 'Student_Name': 'Abhishek', 'Class': '11th', 'Section': 'B'}\n"
     ]
    }
   ],
   "source": [
    "# Class 10 is changed to 11th in all the records\n",
    "result = collection.find()\n",
    "for i in result:\n",
    "    print(i)"
   ]
  },
  {
   "cell_type": "code",
   "execution_count": 101,
   "metadata": {},
   "outputs": [],
   "source": [
    "# Droping the collection i,e table \n",
    "collection.drop()"
   ]
  },
  {
   "cell_type": "code",
   "execution_count": 102,
   "metadata": {},
   "outputs": [
    {
     "name": "stdout",
     "output_type": "stream",
     "text": [
      "Collection Student_Details NOT exists in database Students\n"
     ]
    }
   ],
   "source": [
    "# Checking the collection is existing or not using function\n",
    "\n",
    "def check_col_inside_db(DataBase_Name, Collection_Name, db):\n",
    "    check_lst = db.list_collection_names()\n",
    "    \n",
    "    if Collection_Name in check_lst:\n",
    "        print(f\"Collection {Collection_Name} exists in database {DataBase_Name}\")\n",
    "        return True\n",
    "    else:\n",
    "        print(f\"Collection {Collection_Name} NOT exists in database {DataBase_Name}\")\n",
    "        return False\n",
    "\n",
    "chek_coll=check_col_inside_db(DataBase_Name=DataBase_Name, Collection_Name = Collection_Name, db=data_base)"
   ]
  }
 ],
 "metadata": {
  "kernelspec": {
   "display_name": "Python 3",
   "language": "python",
   "name": "python3"
  }
 },
 "nbformat": 4,
 "nbformat_minor": 4
}
