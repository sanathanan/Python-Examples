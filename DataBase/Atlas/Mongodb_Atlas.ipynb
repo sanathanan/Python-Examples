{
 "cells": [
  {
   "cell_type": "code",
   "execution_count": 1,
   "metadata": {},
   "outputs": [],
   "source": [
    "#MongoDB Atlas"
   ]
  },
  {
   "cell_type": "code",
   "execution_count": 7,
   "metadata": {},
   "outputs": [
    {
     "name": "stdout",
     "output_type": "stream",
     "text": [
      "0: {'_id': ObjectId('60266a6077ba707690c70cf2'), 'Student_ID': 1, 'Student_Name': 'Sanath', 'Class': '10th'}\n",
      "1: {'_id': ObjectId('60266a6077ba707690c70cf3'), 'Student_ID': 2, 'Student_Name': 'Rahul', 'Class': '10th'}\n",
      "2: {'_id': ObjectId('60266a6077ba707690c70cf4'), 'Student_ID': 3, 'Student_Name': 'Kishor', 'Class': '10th'}\n"
     ]
    }
   ],
   "source": [
    "import pymongo\n",
    "\n",
    "# Connection URL (This url we need to get from Mongodb Atlas)\n",
    "CONNECTION_URL = f\"mongodb+srv://<username>:<password>@cluster0.25vwg.mongodb.net/<dbname>?retryWrites=true&w=majority\"\n",
    "\n",
    "# Establish a connection with mongoDB\n",
    "client = pymongo.MongoClient(CONNECTION_URL)\n",
    "\n",
    "# Create a DB\n",
    "dataBase = client[\"test\"]\n",
    "\n",
    "# Create a Collection Name\n",
    "COLLECTION_NAME = \"Students\"\n",
    "collection = dataBase[COLLECTION_NAME]\n",
    "\n",
    "# Create a List of Records\n",
    "list_of_records = [\n",
    "    {'Student_ID': 1,\n",
    "     'Student_Name': 'Sanath',\n",
    "     'Class': '10th'},\n",
    "    \n",
    "    {'Student_ID': 2,\n",
    "     'Student_Name': 'Rahul',\n",
    "     'Class': '10th'},\n",
    "    \n",
    "    {'Student_ID': 3,\n",
    "     'Student_Name': 'Kishor',\n",
    "     'Class': '10th'}\n",
    "]\n",
    "\n",
    "# insert above records in the collection\n",
    "rec = collection.insert_many(list_of_records)\n",
    "\n",
    "# Lets Verify all the record at once present in the record with all the fields\n",
    "all_record = collection.find()\n",
    "\n",
    "for idx, record in enumerate(all_record):\n",
    "    print(f\"{idx}: {record}\")"
   ]
  }
 ],
 "metadata": {
  "kernelspec": {
   "display_name": "Python 3",
   "language": "python",
   "name": "python3"
  },
  "language_info": {
   "codemirror_mode": {
    "name": "ipython",
    "version": 3
   },
   "file_extension": ".py",
   "mimetype": "text/x-python",
   "name": "python",
   "nbconvert_exporter": "python",
   "pygments_lexer": "ipython3",
   "version": "3.8.3"
  }
 },
 "nbformat": 4,
 "nbformat_minor": 4
}
