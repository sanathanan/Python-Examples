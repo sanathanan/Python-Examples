{
 "cells": [
  {
   "cell_type": "code",
   "execution_count": 1,
   "metadata": {},
   "outputs": [
    {
     "name": "stdout",
     "output_type": "stream",
     "text": [
      "mydb is connected\n"
     ]
    }
   ],
   "source": [
    "# Database Connection\n",
    "\n",
    "# Importing mysql connector to make a connection between mysql database and Python code\n",
    "import mysql.connector as connection\n",
    "\n",
    "# Connecting through mysql database using host, username and password for the database\n",
    "mydb=connection.connect(host=\"localhost\", user=\"root\", passwd=\"1234\")\n",
    "\n",
    "print(\"mydb is connected\")\n",
    "\n",
    "# Once database is opened, we need to close the database after use\n",
    "mydb.close()\n"
   ]
  },
  {
   "cell_type": "code",
   "execution_count": 3,
   "metadata": {},
   "outputs": [
    {
     "name": "stdout",
     "output_type": "stream",
     "text": [
      "Database Created\n"
     ]
    }
   ],
   "source": [
    "# Creating a Database\n",
    "\n",
    "import mysql.connector as connection\n",
    "\n",
    "try:\n",
    "    mydb=connection.connect(host=\"localhost\",user=\"root\",passwd=\"1234\")\n",
    "    \n",
    "    # Creating a cursor to execute the query and display the output. It acts as a pointer\n",
    "    cursor = mydb.cursor()\n",
    "    \n",
    "    # Giving our query\n",
    "    query=\"CREATE DATABASE IF NOT EXISTS STUDENT;\"\n",
    "    \n",
    "    # Excuting the query using cursor\n",
    "    cursor.execute(query)\n",
    "    print(\"Database Created\")\n",
    "    \n",
    "    mydb.commit()\n",
    "    \n",
    "except Exception as e:\n",
    "    print(str(e))\n",
    "\n",
    "finally:\n",
    "    # Closing the database\n",
    "    mydb.close()"
   ]
  },
  {
   "cell_type": "code",
   "execution_count": 8,
   "metadata": {},
   "outputs": [
    {
     "name": "stdout",
     "output_type": "stream",
     "text": [
      "Table Created\n"
     ]
    }
   ],
   "source": [
    "# Create a Table Inside Databse\n",
    "\n",
    "import mysql.connector as connection \n",
    "\n",
    "try:\n",
    "    mydb=connection.connect(host=\"localhost\", database=\"STUDENT\", user=\"root\", passwd=\"1234\")\n",
    "    \n",
    "    cursor=mydb.cursor()\n",
    "    \n",
    "    # Creating a Table inside the database \"STUDENT\"\n",
    "    query= \"\"\"CREATE TABLE IF NOT EXISTS STUDENT_DETAILS(STUDENT_ID INT(10) AUTO_INCREMENT PRIMARY KEY,\n",
    "                                        FIRST_NAME VARCHAR(60),\n",
    "                                        LAST_NAME VARCHAR(60),\n",
    "                                        REGISTRATION_DATE DATE,\n",
    "                                        CLASS VARCHAR(30),\n",
    "                                        SECTION VARCHAR(10)\n",
    "                                        )\"\"\"\n",
    "    cursor.execute(query)\n",
    "    print(\"Table Created\")\n",
    "    mydb.commit()\n",
    "\n",
    "except Exception as e:\n",
    "    print(str(e))\n",
    "    \n",
    "finally:\n",
    "    mydb.close()"
   ]
  },
  {
   "cell_type": "code",
   "execution_count": 10,
   "metadata": {},
   "outputs": [
    {
     "name": "stdout",
     "output_type": "stream",
     "text": [
      "Data inserted into Table\n"
     ]
    }
   ],
   "source": [
    "# Inserting into Table\n",
    "\n",
    "import mysql.connector as connection \n",
    "\n",
    "try:\n",
    "    mydb=connection.connect(host=\"localhost\", database=\"STUDENT\", user=\"root\", passwd=\"1234\") \n",
    "    cursor=mydb.cursor()\n",
    "    query=\"INSERT INTO STUDENT_DETAILS VALUES('1112','SAM','THANG','1988-05-05','LKG','B')\"\n",
    "    cursor.execute(query)\n",
    "    print(\"Data inserted into Table\")\n",
    "    mydb.commit()\n",
    "\n",
    "except Exception as e:\n",
    "    print(str(e))\n",
    "    \n",
    "finally:\n",
    "    mydb.close()"
   ]
  },
  {
   "cell_type": "code",
   "execution_count": 11,
   "metadata": {},
   "outputs": [
    {
     "name": "stdout",
     "output_type": "stream",
     "text": [
      "[(1111, 'LAVANYAAAAA', 'THANGARAJ', datetime.date(1988, 5, 5), 'LKG', 'B'), (1112, 'SAM', 'THANG', datetime.date(1988, 5, 5), 'LKG', 'B')]\n"
     ]
    }
   ],
   "source": [
    "# Reading a data inside tables\n",
    "\n",
    "# Inserting into Table - Example 1\n",
    "\n",
    "import mysql.connector as connection \n",
    "\n",
    "try:\n",
    "    mydb=connection.connect(host=\"localhost\", database=\"STUDENT\", user=\"root\", passwd=\"1234\") \n",
    "    cursor=mydb.cursor()\n",
    "    query=\"SELECT * FROM STUDENT_DETAILS\"\n",
    "    cursor.execute(query)\n",
    "\n",
    "    # fetchall() will display the output\n",
    "    result=cursor.fetchall()\n",
    "    print(result)\n",
    "    \n",
    "    mydb.commit()\n",
    "\n",
    "except Exception as e:\n",
    "    print(str(e))\n",
    "    \n",
    "finally:\n",
    "    mydb.close()"
   ]
  },
  {
   "cell_type": "code",
   "execution_count": 12,
   "metadata": {},
   "outputs": [
    {
     "name": "stdout",
     "output_type": "stream",
     "text": [
      "(1111, 'LAVANYAAAAA', 'THANGARAJ', datetime.date(1988, 5, 5), 'LKG', 'B')\n",
      "(1112, 'SAM', 'THANG', datetime.date(1988, 5, 5), 'LKG', 'B')\n"
     ]
    }
   ],
   "source": [
    "# Reading a data inside tables\n",
    "\n",
    "# Inserting into Table - Example 2\n",
    "\n",
    "import mysql.connector as connection \n",
    "\n",
    "try:\n",
    "    mydb=connection.connect(host=\"localhost\", database=\"STUDENT\", user=\"root\", passwd=\"1234\") \n",
    "    cursor=mydb.cursor()\n",
    "    query=\"SELECT * FROM STUDENT_DETAILS\"\n",
    "    cursor.execute(query)\n",
    "\n",
    "    # fetchall() will display the output using forloop\n",
    "    result=cursor.fetchall()\n",
    "    for i in result:\n",
    "        print(i)\n",
    "        \n",
    "    mydb.commit()\n",
    "\n",
    "except Exception as e:\n",
    "    print(str(e))\n",
    "    \n",
    "finally:\n",
    "    mydb.close()"
   ]
  },
  {
   "cell_type": "code",
   "execution_count": 14,
   "metadata": {},
   "outputs": [
    {
     "name": "stdout",
     "output_type": "stream",
     "text": [
      "Data Updated in a Table\n"
     ]
    }
   ],
   "source": [
    "# Updating Data into Table\n",
    "\n",
    "import mysql.connector as connection \n",
    "\n",
    "# Example 1: Updating the record\n",
    "mydb=connection.connect(host=\"localhost\", database=\"STUDENT\", user=\"root\", passwd=\"1234\")\n",
    "\n",
    "try:\n",
    "    cursor=mydb.cursor()\n",
    "    query=\"UPDATE STUDENT_DETAILS SET FIRST_NAME='LAVANYA', LAST_NAME='BALASUBRAMANIAN' WHERE STUDENT_ID=1111\"\n",
    "    cursor.execute(query)\n",
    "    print(\"Data Updated in a Table\")\n",
    "    mydb.commit()\n",
    "    \n",
    "except Exception as e:\n",
    "    print(str(e))\n",
    "    \n",
    "finally:\n",
    "    mydb.close()"
   ]
  },
  {
   "cell_type": "code",
   "execution_count": 16,
   "metadata": {},
   "outputs": [
    {
     "name": "stdout",
     "output_type": "stream",
     "text": [
      "(1111, 'SANATH', 'THANGARAJ', datetime.date(1988, 5, 5), 'LKG', 'B')\n"
     ]
    }
   ],
   "source": [
    "# Updating Data into Table\n",
    "\n",
    "# Example 2:\n",
    "# Updating the record and seeing the updated record in the output\n",
    "\n",
    "mydb=connection.connect(host=\"localhost\", database=\"STUDENT\", user=\"root\", passwd=\"1234\")\n",
    "\n",
    "try:\n",
    "    cursor=mydb.cursor()\n",
    "    query=\"UPDATE STUDENT_DETAILS SET FIRST_NAME='SANATH', LAST_NAME='THANGARAJ' WHERE STUDENT_ID=1111\"\n",
    "    cursor.execute(query)\n",
    "    mydb.commit()\n",
    "    \n",
    "    \n",
    "    query=\"SELECT * FROM STUDENT_DETAILS WHERE STUDENT_ID=1111\"\n",
    "    cursor.execute(query)\n",
    "    for result in cursor.fetchall():\n",
    "        print(result)\n",
    "    mydb.commit()\n",
    "    \n",
    "    \n",
    "except Exception as e:\n",
    "    print(str(e))\n",
    "    \n",
    "finally:\n",
    "    mydb.close()"
   ]
  },
  {
   "cell_type": "code",
   "execution_count": 17,
   "metadata": {},
   "outputs": [
    {
     "name": "stdout",
     "output_type": "stream",
     "text": [
      "Reading a file using Pandas\n",
      "INDEX_NUMBER\n",
      "RI\n",
      "NA\n",
      "MG\n",
      "AL\n",
      "SI\n",
      "K\n",
      "CA\n",
      "BA\n",
      "FE\n",
      "CLASS\n"
     ]
    }
   ],
   "source": [
    "# Reading a file from Pandas\n",
    "\n",
    "import mysql.connector as connection \n",
    "import pandas as pd\n",
    "\n",
    "try:\n",
    "    mydb=connection.connect(host=\"localhost\",database=\"GLASSDATA\", user=\"root\", passwd=\"1234\")\n",
    "    #cursor = mydb.cursor()\n",
    "    query=\"SELECT * FROM GLASS_DATA;\"\n",
    "    df=pd.read_sql(query,mydb)\n",
    "    print(\"Reading a file using Pandas\")\n",
    "    for i in df:\n",
    "        print(i)\n",
    "        \n",
    "    mydb.commit()\n",
    "\n",
    "except Exception as e:\n",
    "    print(str(e))\n",
    "\n",
    "finally:\n",
    "    mydb.close()"
   ]
  }
 ],
 "metadata": {
  "kernelspec": {
   "display_name": "Python 3",
   "language": "python",
   "name": "python3"
  },
  "language_info": {
   "codemirror_mode": {
    "name": "ipython",
    "version": 3
   },
   "file_extension": ".py",
   "mimetype": "text/x-python",
   "name": "python",
   "nbconvert_exporter": "python",
   "pygments_lexer": "ipython3",
   "version": "3.8.3"
  }
 },
 "nbformat": 4,
 "nbformat_minor": 4
}
